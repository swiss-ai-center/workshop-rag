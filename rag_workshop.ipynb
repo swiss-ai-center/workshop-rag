{
 "cells": [
  {
   "cell_type": "markdown",
   "metadata": {},
   "source": [
    "# Welcome\n",
    "\n",
    "Authors:\n",
    "- Célien Donzé, research assistant at Haute Ecole Arc Ingénierie, Switzerland\n",
    "- Jonathan Guerne, research assistant at Haute Ecole Arc Ingénierie, Switzerland\n",
    "- Henrique Marques Reis, research assistant at Haute Ecole Arc Ingénierie, Switzerland\n",
    "- Pedro Costa, CO-Founder and CTO at Lumind, Switzerland"
   ]
  },
  {
   "cell_type": "markdown",
   "metadata": {},
   "source": [
    "## Package installation"
   ]
  },
  {
   "cell_type": "code",
   "execution_count": 1,
   "metadata": {
    "vscode": {
     "languageId": "shellscript"
    }
   },
   "outputs": [
    {
     "name": "stdout",
     "output_type": "stream",
     "text": [
      "Collecting langchain\n",
      "  Downloading langchain-0.3.11-py3-none-any.whl.metadata (7.1 kB)\n",
      "Collecting langchain-community\n",
      "  Downloading langchain_community-0.3.11-py3-none-any.whl.metadata (2.9 kB)\n",
      "Collecting faiss-cpu\n",
      "  Downloading faiss_cpu-1.9.0.post1-cp310-cp310-manylinux_2_17_x86_64.manylinux2014_x86_64.whl.metadata (4.4 kB)\n",
      "Collecting pymupdf\n",
      "  Downloading pymupdf-1.25.0-cp39-abi3-manylinux2014_x86_64.manylinux_2_17_x86_64.whl.metadata (3.4 kB)\n",
      "Collecting pypdf\n",
      "  Downloading pypdf-5.1.0-py3-none-any.whl.metadata (7.2 kB)\n",
      "Collecting sentence_transformers\n",
      "  Downloading sentence_transformers-3.3.1-py3-none-any.whl.metadata (10 kB)\n",
      "Requirement already satisfied: rich in /home/henrique/.pyenv/versions/3.10.13/lib/python3.10/site-packages (13.7.0)\n",
      "Collecting wget\n",
      "  Downloading wget-3.2.zip (10 kB)\n",
      "  Preparing metadata (setup.py) ... \u001b[?25ldone\n",
      "\u001b[?25hRequirement already satisfied: PyYAML>=5.3 in /home/henrique/.pyenv/versions/3.10.13/lib/python3.10/site-packages (from langchain) (6.0.1)\n",
      "Requirement already satisfied: SQLAlchemy<3,>=1.4 in /home/henrique/.pyenv/versions/3.10.13/lib/python3.10/site-packages (from langchain) (2.0.29)\n",
      "Requirement already satisfied: aiohttp<4.0.0,>=3.8.3 in /home/henrique/.pyenv/versions/3.10.13/lib/python3.10/site-packages (from langchain) (3.9.3)\n",
      "Requirement already satisfied: async-timeout<5.0.0,>=4.0.0 in /home/henrique/.pyenv/versions/3.10.13/lib/python3.10/site-packages (from langchain) (4.0.3)\n",
      "Collecting langchain-core<0.4.0,>=0.3.24 (from langchain)\n",
      "  Downloading langchain_core-0.3.24-py3-none-any.whl.metadata (6.3 kB)\n",
      "Collecting langchain-text-splitters<0.4.0,>=0.3.0 (from langchain)\n",
      "  Downloading langchain_text_splitters-0.3.2-py3-none-any.whl.metadata (2.3 kB)\n",
      "Collecting langsmith<0.3,>=0.1.17 (from langchain)\n",
      "  Downloading langsmith-0.2.2-py3-none-any.whl.metadata (14 kB)\n",
      "Requirement already satisfied: numpy<2,>=1.22.4 in /home/henrique/.pyenv/versions/3.10.13/lib/python3.10/site-packages (from langchain) (1.23.5)\n",
      "Collecting pydantic<3.0.0,>=2.7.4 (from langchain)\n",
      "  Downloading pydantic-2.10.3-py3-none-any.whl.metadata (172 kB)\n",
      "Requirement already satisfied: requests<3,>=2 in /home/henrique/.pyenv/versions/3.10.13/lib/python3.10/site-packages (from langchain) (2.31.0)\n",
      "Requirement already satisfied: tenacity!=8.4.0,<10,>=8.1.0 in /home/henrique/.pyenv/versions/3.10.13/lib/python3.10/site-packages (from langchain) (8.2.3)\n",
      "Collecting dataclasses-json<0.7,>=0.5.7 (from langchain-community)\n",
      "  Downloading dataclasses_json-0.6.7-py3-none-any.whl.metadata (25 kB)\n",
      "Collecting httpx-sse<0.5.0,>=0.4.0 (from langchain-community)\n",
      "  Downloading httpx_sse-0.4.0-py3-none-any.whl.metadata (9.0 kB)\n",
      "Collecting pydantic-settings<3.0.0,>=2.4.0 (from langchain-community)\n",
      "  Downloading pydantic_settings-2.6.1-py3-none-any.whl.metadata (3.5 kB)\n",
      "Collecting numpy<2,>=1.22.4 (from langchain)\n",
      "  Downloading numpy-1.26.4-cp310-cp310-manylinux_2_17_x86_64.manylinux2014_x86_64.whl.metadata (61 kB)\n",
      "Requirement already satisfied: packaging in /home/henrique/.pyenv/versions/3.10.13/lib/python3.10/site-packages (from faiss-cpu) (23.2)\n",
      "Requirement already satisfied: typing_extensions>=4.0 in /home/henrique/.pyenv/versions/3.10.13/lib/python3.10/site-packages (from pypdf) (4.8.0)\n",
      "Collecting transformers<5.0.0,>=4.41.0 (from sentence_transformers)\n",
      "  Downloading transformers-4.47.0-py3-none-any.whl.metadata (43 kB)\n",
      "Requirement already satisfied: tqdm in /home/henrique/.pyenv/versions/3.10.13/lib/python3.10/site-packages (from sentence_transformers) (4.66.1)\n",
      "Collecting torch>=1.11.0 (from sentence_transformers)\n",
      "  Downloading torch-2.5.1-cp310-cp310-manylinux1_x86_64.whl.metadata (28 kB)\n",
      "Requirement already satisfied: scikit-learn in /home/henrique/.pyenv/versions/3.10.13/lib/python3.10/site-packages (from sentence_transformers) (1.4.1.post1)\n",
      "Requirement already satisfied: scipy in /home/henrique/.pyenv/versions/3.10.13/lib/python3.10/site-packages (from sentence_transformers) (1.11.3)\n",
      "Collecting huggingface-hub>=0.20.0 (from sentence_transformers)\n",
      "  Downloading huggingface_hub-0.26.5-py3-none-any.whl.metadata (13 kB)\n",
      "Requirement already satisfied: Pillow in /home/henrique/.pyenv/versions/3.10.13/lib/python3.10/site-packages (from sentence_transformers) (9.5.0)\n",
      "Requirement already satisfied: markdown-it-py>=2.2.0 in /home/henrique/.pyenv/versions/3.10.13/lib/python3.10/site-packages (from rich) (3.0.0)\n",
      "Requirement already satisfied: pygments<3.0.0,>=2.13.0 in /home/henrique/.pyenv/versions/3.10.13/lib/python3.10/site-packages (from rich) (2.16.1)\n",
      "Requirement already satisfied: aiosignal>=1.1.2 in /home/henrique/.pyenv/versions/3.10.13/lib/python3.10/site-packages (from aiohttp<4.0.0,>=3.8.3->langchain) (1.3.1)\n",
      "Requirement already satisfied: attrs>=17.3.0 in /home/henrique/.pyenv/versions/3.10.13/lib/python3.10/site-packages (from aiohttp<4.0.0,>=3.8.3->langchain) (23.1.0)\n",
      "Requirement already satisfied: frozenlist>=1.1.1 in /home/henrique/.pyenv/versions/3.10.13/lib/python3.10/site-packages (from aiohttp<4.0.0,>=3.8.3->langchain) (1.4.1)\n",
      "Requirement already satisfied: multidict<7.0,>=4.5 in /home/henrique/.pyenv/versions/3.10.13/lib/python3.10/site-packages (from aiohttp<4.0.0,>=3.8.3->langchain) (6.0.5)\n",
      "Requirement already satisfied: yarl<2.0,>=1.0 in /home/henrique/.pyenv/versions/3.10.13/lib/python3.10/site-packages (from aiohttp<4.0.0,>=3.8.3->langchain) (1.9.4)\n",
      "Collecting marshmallow<4.0.0,>=3.18.0 (from dataclasses-json<0.7,>=0.5.7->langchain-community)\n",
      "  Downloading marshmallow-3.23.1-py3-none-any.whl.metadata (7.5 kB)\n",
      "Collecting typing-inspect<1,>=0.4.0 (from dataclasses-json<0.7,>=0.5.7->langchain-community)\n",
      "  Downloading typing_inspect-0.9.0-py3-none-any.whl.metadata (1.5 kB)\n",
      "Requirement already satisfied: filelock in /home/henrique/.pyenv/versions/3.10.13/lib/python3.10/site-packages (from huggingface-hub>=0.20.0->sentence_transformers) (3.13.1)\n",
      "Collecting fsspec>=2023.5.0 (from huggingface-hub>=0.20.0->sentence_transformers)\n",
      "  Downloading fsspec-2024.10.0-py3-none-any.whl.metadata (11 kB)\n",
      "Collecting jsonpatch<2.0,>=1.33 (from langchain-core<0.4.0,>=0.3.24->langchain)\n",
      "  Downloading jsonpatch-1.33-py2.py3-none-any.whl.metadata (3.0 kB)\n",
      "Requirement already satisfied: httpx<1,>=0.23.0 in /home/henrique/.pyenv/versions/3.10.13/lib/python3.10/site-packages (from langsmith<0.3,>=0.1.17->langchain) (0.27.0)\n",
      "Collecting orjson<4.0.0,>=3.9.14 (from langsmith<0.3,>=0.1.17->langchain)\n",
      "  Downloading orjson-3.10.12-cp310-cp310-manylinux_2_17_x86_64.manylinux2014_x86_64.whl.metadata (41 kB)\n",
      "Requirement already satisfied: requests-toolbelt<2.0.0,>=1.0.0 in /home/henrique/.pyenv/versions/3.10.13/lib/python3.10/site-packages (from langsmith<0.3,>=0.1.17->langchain) (1.0.0)\n",
      "Requirement already satisfied: mdurl~=0.1 in /home/henrique/.pyenv/versions/3.10.13/lib/python3.10/site-packages (from markdown-it-py>=2.2.0->rich) (0.1.2)\n",
      "Requirement already satisfied: annotated-types>=0.6.0 in /home/henrique/.pyenv/versions/3.10.13/lib/python3.10/site-packages (from pydantic<3.0.0,>=2.7.4->langchain) (0.6.0)\n",
      "Collecting pydantic-core==2.27.1 (from pydantic<3.0.0,>=2.7.4->langchain)\n",
      "  Downloading pydantic_core-2.27.1-cp310-cp310-manylinux_2_17_x86_64.manylinux2014_x86_64.whl.metadata (6.6 kB)\n",
      "Collecting typing_extensions>=4.0 (from pypdf)\n",
      "  Downloading typing_extensions-4.12.2-py3-none-any.whl.metadata (3.0 kB)\n",
      "Requirement already satisfied: python-dotenv>=0.21.0 in /home/henrique/.pyenv/versions/3.10.13/lib/python3.10/site-packages (from pydantic-settings<3.0.0,>=2.4.0->langchain-community) (1.0.1)\n",
      "Requirement already satisfied: charset-normalizer<4,>=2 in /home/henrique/.pyenv/versions/3.10.13/lib/python3.10/site-packages (from requests<3,>=2->langchain) (3.3.0)\n",
      "Requirement already satisfied: idna<4,>=2.5 in /home/henrique/.pyenv/versions/3.10.13/lib/python3.10/site-packages (from requests<3,>=2->langchain) (3.4)\n",
      "Requirement already satisfied: urllib3<3,>=1.21.1 in /home/henrique/.pyenv/versions/3.10.13/lib/python3.10/site-packages (from requests<3,>=2->langchain) (1.26.18)\n",
      "Requirement already satisfied: certifi>=2017.4.17 in /home/henrique/.pyenv/versions/3.10.13/lib/python3.10/site-packages (from requests<3,>=2->langchain) (2023.7.22)\n",
      "Requirement already satisfied: greenlet!=0.4.17 in /home/henrique/.pyenv/versions/3.10.13/lib/python3.10/site-packages (from SQLAlchemy<3,>=1.4->langchain) (3.0.3)\n",
      "Requirement already satisfied: networkx in /home/henrique/.pyenv/versions/3.10.13/lib/python3.10/site-packages (from torch>=1.11.0->sentence_transformers) (3.1)\n",
      "Requirement already satisfied: jinja2 in /home/henrique/.pyenv/versions/3.10.13/lib/python3.10/site-packages (from torch>=1.11.0->sentence_transformers) (3.1.2)\n",
      "Collecting nvidia-cuda-nvrtc-cu12==12.4.127 (from torch>=1.11.0->sentence_transformers)\n",
      "  Using cached nvidia_cuda_nvrtc_cu12-12.4.127-py3-none-manylinux2014_x86_64.whl.metadata (1.5 kB)\n",
      "Collecting nvidia-cuda-runtime-cu12==12.4.127 (from torch>=1.11.0->sentence_transformers)\n",
      "  Using cached nvidia_cuda_runtime_cu12-12.4.127-py3-none-manylinux2014_x86_64.whl.metadata (1.5 kB)\n",
      "Collecting nvidia-cuda-cupti-cu12==12.4.127 (from torch>=1.11.0->sentence_transformers)\n",
      "  Using cached nvidia_cuda_cupti_cu12-12.4.127-py3-none-manylinux2014_x86_64.whl.metadata (1.6 kB)\n",
      "Collecting nvidia-cudnn-cu12==9.1.0.70 (from torch>=1.11.0->sentence_transformers)\n",
      "  Using cached nvidia_cudnn_cu12-9.1.0.70-py3-none-manylinux2014_x86_64.whl.metadata (1.6 kB)\n",
      "Collecting nvidia-cublas-cu12==12.4.5.8 (from torch>=1.11.0->sentence_transformers)\n",
      "  Using cached nvidia_cublas_cu12-12.4.5.8-py3-none-manylinux2014_x86_64.whl.metadata (1.5 kB)\n",
      "Collecting nvidia-cufft-cu12==11.2.1.3 (from torch>=1.11.0->sentence_transformers)\n",
      "  Using cached nvidia_cufft_cu12-11.2.1.3-py3-none-manylinux2014_x86_64.whl.metadata (1.5 kB)\n",
      "Collecting nvidia-curand-cu12==10.3.5.147 (from torch>=1.11.0->sentence_transformers)\n",
      "  Using cached nvidia_curand_cu12-10.3.5.147-py3-none-manylinux2014_x86_64.whl.metadata (1.5 kB)\n",
      "Collecting nvidia-cusolver-cu12==11.6.1.9 (from torch>=1.11.0->sentence_transformers)\n",
      "  Using cached nvidia_cusolver_cu12-11.6.1.9-py3-none-manylinux2014_x86_64.whl.metadata (1.6 kB)\n",
      "Collecting nvidia-cusparse-cu12==12.3.1.170 (from torch>=1.11.0->sentence_transformers)\n",
      "  Using cached nvidia_cusparse_cu12-12.3.1.170-py3-none-manylinux2014_x86_64.whl.metadata (1.6 kB)\n",
      "Collecting nvidia-nccl-cu12==2.21.5 (from torch>=1.11.0->sentence_transformers)\n",
      "  Using cached nvidia_nccl_cu12-2.21.5-py3-none-manylinux2014_x86_64.whl.metadata (1.8 kB)\n",
      "Collecting nvidia-nvtx-cu12==12.4.127 (from torch>=1.11.0->sentence_transformers)\n",
      "  Using cached nvidia_nvtx_cu12-12.4.127-py3-none-manylinux2014_x86_64.whl.metadata (1.7 kB)\n",
      "Collecting nvidia-nvjitlink-cu12==12.4.127 (from torch>=1.11.0->sentence_transformers)\n",
      "  Using cached nvidia_nvjitlink_cu12-12.4.127-py3-none-manylinux2014_x86_64.whl.metadata (1.5 kB)\n",
      "Collecting triton==3.1.0 (from torch>=1.11.0->sentence_transformers)\n",
      "  Using cached triton-3.1.0-cp310-cp310-manylinux_2_17_x86_64.manylinux2014_x86_64.whl.metadata (1.3 kB)\n",
      "Collecting sympy==1.13.1 (from torch>=1.11.0->sentence_transformers)\n",
      "  Using cached sympy-1.13.1-py3-none-any.whl.metadata (12 kB)\n",
      "Collecting mpmath<1.4,>=1.1.0 (from sympy==1.13.1->torch>=1.11.0->sentence_transformers)\n",
      "  Using cached mpmath-1.3.0-py3-none-any.whl.metadata (8.6 kB)\n",
      "Collecting regex!=2019.12.17 (from transformers<5.0.0,>=4.41.0->sentence_transformers)\n",
      "  Downloading regex-2024.11.6-cp310-cp310-manylinux_2_17_x86_64.manylinux2014_x86_64.whl.metadata (40 kB)\n",
      "Collecting tokenizers<0.22,>=0.21 (from transformers<5.0.0,>=4.41.0->sentence_transformers)\n",
      "  Downloading tokenizers-0.21.0-cp39-abi3-manylinux_2_17_x86_64.manylinux2014_x86_64.whl.metadata (6.7 kB)\n",
      "Collecting safetensors>=0.4.1 (from transformers<5.0.0,>=4.41.0->sentence_transformers)\n",
      "  Downloading safetensors-0.4.5-cp310-cp310-manylinux_2_17_x86_64.manylinux2014_x86_64.whl.metadata (3.8 kB)\n",
      "Requirement already satisfied: joblib>=1.2.0 in /home/henrique/.pyenv/versions/3.10.13/lib/python3.10/site-packages (from scikit-learn->sentence_transformers) (1.3.2)\n",
      "Requirement already satisfied: threadpoolctl>=2.0.0 in /home/henrique/.pyenv/versions/3.10.13/lib/python3.10/site-packages (from scikit-learn->sentence_transformers) (3.3.0)\n",
      "Requirement already satisfied: anyio in /home/henrique/.pyenv/versions/3.10.13/lib/python3.10/site-packages (from httpx<1,>=0.23.0->langsmith<0.3,>=0.1.17->langchain) (4.3.0)\n",
      "Requirement already satisfied: httpcore==1.* in /home/henrique/.pyenv/versions/3.10.13/lib/python3.10/site-packages (from httpx<1,>=0.23.0->langsmith<0.3,>=0.1.17->langchain) (1.0.5)\n",
      "Requirement already satisfied: sniffio in /home/henrique/.pyenv/versions/3.10.13/lib/python3.10/site-packages (from httpx<1,>=0.23.0->langsmith<0.3,>=0.1.17->langchain) (1.3.1)\n",
      "Requirement already satisfied: h11<0.15,>=0.13 in /home/henrique/.pyenv/versions/3.10.13/lib/python3.10/site-packages (from httpcore==1.*->httpx<1,>=0.23.0->langsmith<0.3,>=0.1.17->langchain) (0.14.0)\n",
      "Requirement already satisfied: jsonpointer>=1.9 in /home/henrique/.pyenv/versions/3.10.13/lib/python3.10/site-packages (from jsonpatch<2.0,>=1.33->langchain-core<0.4.0,>=0.3.24->langchain) (2.4)\n",
      "Requirement already satisfied: mypy-extensions>=0.3.0 in /home/henrique/.pyenv/versions/3.10.13/lib/python3.10/site-packages (from typing-inspect<1,>=0.4.0->dataclasses-json<0.7,>=0.5.7->langchain-community) (1.0.0)\n",
      "Requirement already satisfied: MarkupSafe>=2.0 in /home/henrique/.pyenv/versions/3.10.13/lib/python3.10/site-packages (from jinja2->torch>=1.11.0->sentence_transformers) (2.1.3)\n",
      "Requirement already satisfied: exceptiongroup>=1.0.2 in /home/henrique/.pyenv/versions/3.10.13/lib/python3.10/site-packages (from anyio->httpx<1,>=0.23.0->langsmith<0.3,>=0.1.17->langchain) (1.1.3)\n",
      "Downloading langchain-0.3.11-py3-none-any.whl (1.0 MB)\n",
      "\u001b[2K   \u001b[90m━━━━━━━━━━━━━━━━━━━━━━━━━━━━━━━━━━━━━━━━\u001b[0m \u001b[32m1.0/1.0 MB\u001b[0m \u001b[31m4.0 MB/s\u001b[0m eta \u001b[36m0:00:00\u001b[0ma \u001b[36m0:00:01\u001b[0m\n",
      "\u001b[?25hDownloading langchain_community-0.3.11-py3-none-any.whl (2.5 MB)\n",
      "\u001b[2K   \u001b[90m━━━━━━━━━━━━━━━━━━━━━━━━━━━━━━━━━━━━━━━━\u001b[0m \u001b[32m2.5/2.5 MB\u001b[0m \u001b[31m5.8 MB/s\u001b[0m eta \u001b[36m0:00:00\u001b[0ma \u001b[36m0:00:01\u001b[0m\n",
      "\u001b[?25hDownloading faiss_cpu-1.9.0.post1-cp310-cp310-manylinux_2_17_x86_64.manylinux2014_x86_64.whl (27.5 MB)\n",
      "\u001b[2K   \u001b[90m━━━━━━━━━━━━━━━━━━━━━━━━━━━━━━━━━━━━━━━━\u001b[0m \u001b[32m27.5/27.5 MB\u001b[0m \u001b[31m12.5 MB/s\u001b[0m eta \u001b[36m0:00:00\u001b[0ma \u001b[36m0:00:01\u001b[0m\n",
      "\u001b[?25hDownloading pymupdf-1.25.0-cp39-abi3-manylinux2014_x86_64.manylinux_2_17_x86_64.whl (20.0 MB)\n",
      "\u001b[2K   \u001b[90m━━━━━━━━━━━━━━━━━━━━━━━━━━━━━━━━━━━━━━━━\u001b[0m \u001b[32m20.0/20.0 MB\u001b[0m \u001b[31m20.3 MB/s\u001b[0m eta \u001b[36m0:00:00\u001b[0ma \u001b[36m0:00:01\u001b[0m\n",
      "\u001b[?25hDownloading pypdf-5.1.0-py3-none-any.whl (297 kB)\n",
      "Downloading sentence_transformers-3.3.1-py3-none-any.whl (268 kB)\n",
      "Downloading dataclasses_json-0.6.7-py3-none-any.whl (28 kB)\n",
      "Downloading httpx_sse-0.4.0-py3-none-any.whl (7.8 kB)\n",
      "Downloading huggingface_hub-0.26.5-py3-none-any.whl (447 kB)\n",
      "Downloading langchain_core-0.3.24-py3-none-any.whl (410 kB)\n",
      "Downloading langchain_text_splitters-0.3.2-py3-none-any.whl (25 kB)\n",
      "Downloading langsmith-0.2.2-py3-none-any.whl (320 kB)\n",
      "Downloading numpy-1.26.4-cp310-cp310-manylinux_2_17_x86_64.manylinux2014_x86_64.whl (18.2 MB)\n",
      "\u001b[2K   \u001b[90m━━━━━━━━━━━━━━━━━━━━━━━━━━━━━━━━━━━━━━━━\u001b[0m \u001b[32m18.2/18.2 MB\u001b[0m \u001b[31m20.7 MB/s\u001b[0m eta \u001b[36m0:00:00\u001b[0ma \u001b[36m0:00:01\u001b[0m\n",
      "\u001b[?25hDownloading pydantic-2.10.3-py3-none-any.whl (456 kB)\n",
      "Downloading pydantic_core-2.27.1-cp310-cp310-manylinux_2_17_x86_64.manylinux2014_x86_64.whl (2.1 MB)\n",
      "\u001b[2K   \u001b[90m━━━━━━━━━━━━━━━━━━━━━━━━━━━━━━━━━━━━━━━━\u001b[0m \u001b[32m2.1/2.1 MB\u001b[0m \u001b[31m13.6 MB/s\u001b[0m eta \u001b[36m0:00:00\u001b[0m\n",
      "\u001b[?25hDownloading pydantic_settings-2.6.1-py3-none-any.whl (28 kB)\n",
      "Downloading torch-2.5.1-cp310-cp310-manylinux1_x86_64.whl (906.4 MB)\n",
      "\u001b[2K   \u001b[90m━━━━━━━━━━━━━━━━━━━━━━━━━━━━━━━━━━━━━━━━\u001b[0m \u001b[32m906.4/906.4 MB\u001b[0m \u001b[31m22.0 MB/s\u001b[0m eta \u001b[36m0:00:00\u001b[0m00:01\u001b[0m00:02\u001b[0m\n",
      "\u001b[?25hUsing cached nvidia_cublas_cu12-12.4.5.8-py3-none-manylinux2014_x86_64.whl (363.4 MB)\n",
      "Using cached nvidia_cuda_cupti_cu12-12.4.127-py3-none-manylinux2014_x86_64.whl (13.8 MB)\n",
      "Using cached nvidia_cuda_nvrtc_cu12-12.4.127-py3-none-manylinux2014_x86_64.whl (24.6 MB)\n",
      "Using cached nvidia_cuda_runtime_cu12-12.4.127-py3-none-manylinux2014_x86_64.whl (883 kB)\n",
      "Using cached nvidia_cudnn_cu12-9.1.0.70-py3-none-manylinux2014_x86_64.whl (664.8 MB)\n",
      "Using cached nvidia_cufft_cu12-11.2.1.3-py3-none-manylinux2014_x86_64.whl (211.5 MB)\n",
      "Using cached nvidia_curand_cu12-10.3.5.147-py3-none-manylinux2014_x86_64.whl (56.3 MB)\n",
      "Using cached nvidia_cusolver_cu12-11.6.1.9-py3-none-manylinux2014_x86_64.whl (127.9 MB)\n",
      "Using cached nvidia_cusparse_cu12-12.3.1.170-py3-none-manylinux2014_x86_64.whl (207.5 MB)\n",
      "Using cached nvidia_nccl_cu12-2.21.5-py3-none-manylinux2014_x86_64.whl (188.7 MB)\n",
      "Using cached nvidia_nvjitlink_cu12-12.4.127-py3-none-manylinux2014_x86_64.whl (21.1 MB)\n",
      "Using cached nvidia_nvtx_cu12-12.4.127-py3-none-manylinux2014_x86_64.whl (99 kB)\n",
      "Using cached sympy-1.13.1-py3-none-any.whl (6.2 MB)\n",
      "Using cached triton-3.1.0-cp310-cp310-manylinux_2_17_x86_64.manylinux2014_x86_64.whl (209.5 MB)\n",
      "Downloading transformers-4.47.0-py3-none-any.whl (10.1 MB)\n",
      "\u001b[2K   \u001b[90m━━━━━━━━━━━━━━━━━━━━━━━━━━━━━━━━━━━━━━━━\u001b[0m \u001b[32m10.1/10.1 MB\u001b[0m \u001b[31m35.9 MB/s\u001b[0m eta \u001b[36m0:00:00\u001b[0m \u001b[36m0:00:01\u001b[0m\n",
      "\u001b[?25hDownloading typing_extensions-4.12.2-py3-none-any.whl (37 kB)\n",
      "Downloading fsspec-2024.10.0-py3-none-any.whl (179 kB)\n",
      "Downloading jsonpatch-1.33-py2.py3-none-any.whl (12 kB)\n",
      "Downloading marshmallow-3.23.1-py3-none-any.whl (49 kB)\n",
      "Downloading orjson-3.10.12-cp310-cp310-manylinux_2_17_x86_64.manylinux2014_x86_64.whl (131 kB)\n",
      "Downloading regex-2024.11.6-cp310-cp310-manylinux_2_17_x86_64.manylinux2014_x86_64.whl (781 kB)\n",
      "\u001b[2K   \u001b[90m━━━━━━━━━━━━━━━━━━━━━━━━━━━━━━━━━━━━━━━━\u001b[0m \u001b[32m781.7/781.7 kB\u001b[0m \u001b[31m31.9 MB/s\u001b[0m eta \u001b[36m0:00:00\u001b[0m\n",
      "\u001b[?25hDownloading safetensors-0.4.5-cp310-cp310-manylinux_2_17_x86_64.manylinux2014_x86_64.whl (435 kB)\n",
      "Downloading tokenizers-0.21.0-cp39-abi3-manylinux_2_17_x86_64.manylinux2014_x86_64.whl (3.0 MB)\n",
      "\u001b[2K   \u001b[90m━━━━━━━━━━━━━━━━━━━━━━━━━━━━━━━━━━━━━━━━\u001b[0m \u001b[32m3.0/3.0 MB\u001b[0m \u001b[31m20.3 MB/s\u001b[0m eta \u001b[36m0:00:00\u001b[0m\n",
      "\u001b[?25hDownloading typing_inspect-0.9.0-py3-none-any.whl (8.8 kB)\n",
      "Using cached mpmath-1.3.0-py3-none-any.whl (536 kB)\n",
      "Building wheels for collected packages: wget\n",
      "  Building wheel for wget (setup.py) ... \u001b[?25ldone\n",
      "\u001b[?25h  Created wheel for wget: filename=wget-3.2-py3-none-any.whl size=9656 sha256=d8b3d1b0f283ad15b2d4921ce3e571977e5334d3266cbabf0913aeda0642e98d\n",
      "  Stored in directory: /home/henrique/.cache/pip/wheels/8b/f1/7f/5c94f0a7a505ca1c81cd1d9208ae2064675d97582078e6c769\n",
      "Successfully built wget\n",
      "Installing collected packages: wget, mpmath, typing_extensions, triton, sympy, safetensors, regex, pymupdf, orjson, nvidia-nvtx-cu12, nvidia-nvjitlink-cu12, nvidia-nccl-cu12, nvidia-curand-cu12, nvidia-cufft-cu12, nvidia-cuda-runtime-cu12, nvidia-cuda-nvrtc-cu12, nvidia-cuda-cupti-cu12, nvidia-cublas-cu12, numpy, marshmallow, jsonpatch, httpx-sse, fsspec, typing-inspect, pypdf, pydantic-core, nvidia-cusparse-cu12, nvidia-cudnn-cu12, huggingface-hub, faiss-cpu, tokenizers, pydantic, nvidia-cusolver-cu12, dataclasses-json, transformers, torch, pydantic-settings, langsmith, sentence_transformers, langchain-core, langchain-text-splitters, langchain, langchain-community\n",
      "  Attempting uninstall: typing_extensions\n",
      "    Found existing installation: typing_extensions 4.8.0\n",
      "    Uninstalling typing_extensions-4.8.0:\n",
      "      Successfully uninstalled typing_extensions-4.8.0\n",
      "  Attempting uninstall: numpy\n",
      "    Found existing installation: numpy 1.23.5\n",
      "    Uninstalling numpy-1.23.5:\n",
      "      Successfully uninstalled numpy-1.23.5\n",
      "  Attempting uninstall: pydantic-core\n",
      "    Found existing installation: pydantic_core 2.16.3\n",
      "    Uninstalling pydantic_core-2.16.3:\n",
      "      Successfully uninstalled pydantic_core-2.16.3\n",
      "  Attempting uninstall: pydantic\n",
      "    Found existing installation: pydantic 2.6.3\n",
      "    Uninstalling pydantic-2.6.3:\n",
      "      Successfully uninstalled pydantic-2.6.3\n",
      "  Attempting uninstall: pydantic-settings\n",
      "    Found existing installation: pydantic-settings 2.2.1\n",
      "    Uninstalling pydantic-settings-2.2.1:\n",
      "      Successfully uninstalled pydantic-settings-2.2.1\n",
      "\u001b[31mERROR: pip's dependency resolver does not currently take into account all the packages that are installed. This behaviour is the source of the following dependency conflicts.\n",
      "common-code 1.0.2 requires pydantic-settings==2.2.1, but you have pydantic-settings 2.6.1 which is incompatible.\n",
      "ydata-profiling 4.5.1 requires numpy<1.24,>=1.16.0, but you have numpy 1.26.4 which is incompatible.\n",
      "ydata-profiling 4.5.1 requires pydantic<2,>=1.8.1, but you have pydantic 2.10.3 which is incompatible.\u001b[0m\u001b[31m\n",
      "\u001b[0mSuccessfully installed dataclasses-json-0.6.7 faiss-cpu-1.9.0.post1 fsspec-2024.10.0 httpx-sse-0.4.0 huggingface-hub-0.26.5 jsonpatch-1.33 langchain-0.3.11 langchain-community-0.3.11 langchain-core-0.3.24 langchain-text-splitters-0.3.2 langsmith-0.2.2 marshmallow-3.23.1 mpmath-1.3.0 numpy-1.26.4 nvidia-cublas-cu12-12.4.5.8 nvidia-cuda-cupti-cu12-12.4.127 nvidia-cuda-nvrtc-cu12-12.4.127 nvidia-cuda-runtime-cu12-12.4.127 nvidia-cudnn-cu12-9.1.0.70 nvidia-cufft-cu12-11.2.1.3 nvidia-curand-cu12-10.3.5.147 nvidia-cusolver-cu12-11.6.1.9 nvidia-cusparse-cu12-12.3.1.170 nvidia-nccl-cu12-2.21.5 nvidia-nvjitlink-cu12-12.4.127 nvidia-nvtx-cu12-12.4.127 orjson-3.10.12 pydantic-2.10.3 pydantic-core-2.27.1 pydantic-settings-2.6.1 pymupdf-1.25.0 pypdf-5.1.0 regex-2024.11.6 safetensors-0.4.5 sentence_transformers-3.3.1 sympy-1.13.1 tokenizers-0.21.0 torch-2.5.1 transformers-4.47.0 triton-3.1.0 typing-inspect-0.9.0 typing_extensions-4.12.2 wget-3.2\n",
      "\n",
      "\u001b[1m[\u001b[0m\u001b[34;49mnotice\u001b[0m\u001b[1;39;49m]\u001b[0m\u001b[39;49m A new release of pip is available: \u001b[0m\u001b[31;49m24.2\u001b[0m\u001b[39;49m -> \u001b[0m\u001b[32;49m24.3.1\u001b[0m\n",
      "\u001b[1m[\u001b[0m\u001b[34;49mnotice\u001b[0m\u001b[1;39;49m]\u001b[0m\u001b[39;49m To update, run: \u001b[0m\u001b[32;49mpip install --upgrade pip\u001b[0m\n"
     ]
    }
   ],
   "source": [
    "!pip install langchain langchain-community faiss-cpu pymupdf pypdf sentence_transformers rich wget"
   ]
  },
  {
   "cell_type": "markdown",
   "metadata": {},
   "source": [
    "## Imports"
   ]
  },
  {
   "cell_type": "code",
   "execution_count": 2,
   "metadata": {},
   "outputs": [],
   "source": [
    "from langchain.document_loaders import PyPDFDirectoryLoader\n",
    "from langchain.vectorstores import FAISS\n",
    "from langchain.embeddings import HuggingFaceBgeEmbeddings\n",
    "from langchain.chains import RetrievalQA, LLMChain\n",
    "from langchain.text_splitter import RecursiveCharacterTextSplitter\n",
    "from langchain.prompts import PromptTemplate\n",
    "from langchain.llms.ollama import Ollama\n",
    "import os\n",
    "import json\n",
    "from rich.console import Console\n",
    "import zipfile\n",
    "import os\n",
    "import wget\n",
    "\n",
    "\n",
    "console=Console()"
   ]
  },
  {
   "cell_type": "markdown",
   "metadata": {},
   "source": [
    "# Downloading the pdfs"
   ]
  },
  {
   "cell_type": "code",
   "execution_count": 3,
   "metadata": {},
   "outputs": [
    {
     "name": "stdout",
     "output_type": "stream",
     "text": [
      "Pdf file downloaded successfully.\n"
     ]
    }
   ],
   "source": [
    "# Create the \"data/PDFs\" folder if it doesn't exist\n",
    "os.makedirs(\"data/PDFs\", exist_ok=True)\n",
    "\n",
    "# Download the PDFs\n",
    "url = \"https://www.dropbox.com/scl/fo/xhqjzofiqnbmraxksgvlh/AAoL_WMBFOYDuipk5T_tTus?rlkey=qbbcvw4gbw6bpxkeijt6m94kt&st=yhap82wh&dl=1\"\n",
    "filename=wget.download(url, \".\")\n",
    "\n",
    "zip_file_path = f\"./{filename}\"\n",
    "extract_folder = \"data/PDFs\"\n",
    "\n",
    "# Create the extract folder if it doesn't exist\n",
    "os.makedirs(extract_folder, exist_ok=True)\n",
    "\n",
    "# Extract the zip file\n",
    "with zipfile.ZipFile(zip_file_path, 'r') as zip_ref:\n",
    "    zip_ref.extractall(extract_folder)\n",
    "\n",
    "print(\"Pdf file downloaded successfully.\")"
   ]
  },
  {
   "cell_type": "markdown",
   "metadata": {},
   "source": [
    "## Documentation\n",
    "\n",
    "- [langchain](https://python.langchain.com/v0.1/docs/get_started/introduction/)\n",
    "- [Ollama website](https://ollama.com/)"
   ]
  },
  {
   "cell_type": "markdown",
   "metadata": {},
   "source": [
    "## Constants"
   ]
  },
  {
   "cell_type": "code",
   "execution_count": null,
   "metadata": {},
   "outputs": [],
   "source": [
    "OLLAMA_ADDRESS = \"XXXXXX\"\n",
    "# OLLAMA_ADDRESS = \"http://165.1.69.123:11434\"\n",
    "LLM_NAME=\"gemma\""
   ]
  },
  {
   "cell_type": "markdown",
   "metadata": {},
   "source": [
    "# start step 1"
   ]
  },
  {
   "cell_type": "markdown",
   "metadata": {},
   "source": [
    "## Connecting to LLM"
   ]
  },
  {
   "cell_type": "code",
   "execution_count": 5,
   "metadata": {},
   "outputs": [
    {
     "name": "stderr",
     "output_type": "stream",
     "text": [
      "/tmp/ipykernel_938302/2651102297.py:1: LangChainDeprecationWarning: The class `Ollama` was deprecated in LangChain 0.3.1 and will be removed in 1.0.0. An updated version of the class exists in the :class:`~langchain-ollama package and should be used instead. To use it run `pip install -U :class:`~langchain-ollama` and import as `from :class:`~langchain_ollama import OllamaLLM``.\n",
      "  llm= Ollama(\n"
     ]
    }
   ],
   "source": [
    "llm= Ollama(\n",
    "        model=LLM_NAME,\n",
    "        base_url=OLLAMA_ADDRESS,\n",
    "        temperature=0.1, # Will be explained later\n",
    "        stop=[\"<end_of_turn>\"],\n",
    "    )"
   ]
  },
  {
   "cell_type": "markdown",
   "metadata": {},
   "source": [
    "## Creating a prompt\n",
    "\n",
    "A prompt is generally divided into two parts: the context and the question.\n",
    "\n",
    "The context provides the information that the model will use to generate its answer, while the question specifies what the model is expected to respond to.\n",
    "\n",
    "In a prompt, special characters are used to delineate different sections. For instance, in Gemma, these are `<start_of_turn>` and `<end_of_turn>`.\n",
    "\n",
    "Additionally, LangChain requires markers indicating where to insert the user's question and the context retrieved from documents. For the question.\n",
    "\n",
    "Gemma prompt template :\n",
    "\n",
    "```html\n",
    "<start_of_turn>user\n",
    "{{ if .System }}{{ .System }} {{ end }}{{ .Prompt }}<end_of_turn>\n",
    "<start_of_turn>model\n",
    "{{ .Response }}<end_of_turn>\n",
    "```"
   ]
  },
  {
   "cell_type": "code",
   "execution_count": 6,
   "metadata": {},
   "outputs": [],
   "source": [
    "template = \"\"\"<start_of_turn>\n",
    "You are an helpful assistant that answer the question in detail.\n",
    "\n",
    "Human input: {question}<end_of_turn>\n",
    "<start_of_turn>Assistant:<end_of_turn>\"\"\"\n",
    "\n",
    "prompt = PromptTemplate(input_variables=[\"question\"], template=template)"
   ]
  },
  {
   "cell_type": "markdown",
   "metadata": {},
   "source": [
    "## Creating the chain and start a conversation"
   ]
  },
  {
   "cell_type": "code",
   "execution_count": 7,
   "metadata": {},
   "outputs": [
    {
     "name": "stderr",
     "output_type": "stream",
     "text": [
      "/tmp/ipykernel_938302/1867296296.py:1: LangChainDeprecationWarning: The class `LLMChain` was deprecated in LangChain 0.1.17 and will be removed in 1.0. Use :meth:`~RunnableSequence, e.g., `prompt | llm`` instead.\n",
      "  conversation = LLMChain(\n"
     ]
    }
   ],
   "source": [
    "conversation = LLMChain(\n",
    "    llm=llm,\n",
    "    # verbose=True, # uncomment if you want to see more information about the chain\n",
    "    prompt=prompt\n",
    ")"
   ]
  },
  {
   "cell_type": "code",
   "execution_count": 8,
   "metadata": {},
   "outputs": [
    {
     "data": {
      "text/html": [
       "<pre style=\"white-space:pre;overflow-x:auto;line-height:normal;font-family:Menlo,'DejaVu Sans Mono',consolas,'Courier New',monospace\">**The capital of Switzerland is Bern.**\n",
       "\n",
       "**Background:**\n",
       "\n",
       "* Bern is a city in western Switzerland.\n",
       "* It has been the capital of Switzerland since <span style=\"color: #008080; text-decoration-color: #008080; font-weight: bold\">1848</span>.\n",
       "* The city is known for its historic old town, charming riverfront, and modern architecture.\n",
       "\n",
       "**Key features of Bern as the capital:**\n",
       "\n",
       "* **Government buildings:** The federal government of Switzerland is headquartered in Bern, including the Federal \n",
       "Council <span style=\"font-weight: bold\">(</span>parliament<span style=\"font-weight: bold\">)</span> and the Federal Chancellery <span style=\"font-weight: bold\">(</span>executive office<span style=\"font-weight: bold\">)</span>.\n",
       "* **Administrative center:** Bern is the central hub for government services and agencies.\n",
       "* **Economic and cultural hub:** The city is a major economic and cultural center in Switzerland, with a strong \n",
       "financial sector and a vibrant arts and culture scene.\n",
       "* **Historical significance:** Bern has a rich history dating back to the Middle Ages.\n",
       "\n",
       "**Other notable facts about Bern:**\n",
       "\n",
       "* It is the fourth-largest city in Switzerland by population.\n",
       "* The city's official language is German.\n",
       "* Bern is known for its chocolate production and has several chocolate factories.\n",
       "* The Aare River flows through the city.\n",
       "\n",
       "**Therefore, the capital of Switzerland is Bern, a historic and thriving city that serves as the political and \n",
       "economic heart of the country.**\n",
       "</pre>\n"
      ],
      "text/plain": [
       "**The capital of Switzerland is Bern.**\n",
       "\n",
       "**Background:**\n",
       "\n",
       "* Bern is a city in western Switzerland.\n",
       "* It has been the capital of Switzerland since \u001b[1;36m1848\u001b[0m.\n",
       "* The city is known for its historic old town, charming riverfront, and modern architecture.\n",
       "\n",
       "**Key features of Bern as the capital:**\n",
       "\n",
       "* **Government buildings:** The federal government of Switzerland is headquartered in Bern, including the Federal \n",
       "Council \u001b[1m(\u001b[0mparliament\u001b[1m)\u001b[0m and the Federal Chancellery \u001b[1m(\u001b[0mexecutive office\u001b[1m)\u001b[0m.\n",
       "* **Administrative center:** Bern is the central hub for government services and agencies.\n",
       "* **Economic and cultural hub:** The city is a major economic and cultural center in Switzerland, with a strong \n",
       "financial sector and a vibrant arts and culture scene.\n",
       "* **Historical significance:** Bern has a rich history dating back to the Middle Ages.\n",
       "\n",
       "**Other notable facts about Bern:**\n",
       "\n",
       "* It is the fourth-largest city in Switzerland by population.\n",
       "* The city's official language is German.\n",
       "* Bern is known for its chocolate production and has several chocolate factories.\n",
       "* The Aare River flows through the city.\n",
       "\n",
       "**Therefore, the capital of Switzerland is Bern, a historic and thriving city that serves as the political and \n",
       "economic heart of the country.**\n"
      ]
     },
     "metadata": {},
     "output_type": "display_data"
    }
   ],
   "source": [
    "result = conversation.invoke(input=\"What is the capital of Switzerland?\")\n",
    "console.print(result.get(\"text\"))"
   ]
  },
  {
   "cell_type": "markdown",
   "metadata": {},
   "source": [
    "# end step 1"
   ]
  },
  {
   "cell_type": "markdown",
   "metadata": {},
   "source": [
    "# start step 2"
   ]
  },
  {
   "cell_type": "markdown",
   "metadata": {},
   "source": [
    "## Loading a PDF"
   ]
  },
  {
   "cell_type": "code",
   "execution_count": 9,
   "metadata": {},
   "outputs": [],
   "source": [
    "DATA_DIR = os.path.join(\"./\", \"data\")\n",
    "PDF_DIR = os.path.join(DATA_DIR, \"PDFs\")\n",
    "VECTORSTORES_DIR = os.path.join(DATA_DIR, \"vectorstores\")"
   ]
  },
  {
   "cell_type": "code",
   "execution_count": 10,
   "metadata": {},
   "outputs": [],
   "source": [
    "loader = PyPDFDirectoryLoader(PDF_DIR)\n",
    "doc = loader.load()"
   ]
  },
  {
   "cell_type": "markdown",
   "metadata": {},
   "source": [
    "## Embedding a PDF in a vectorstore"
   ]
  },
  {
   "cell_type": "code",
   "execution_count": 11,
   "metadata": {},
   "outputs": [],
   "source": [
    "CHUNK_SIZE = 500\n",
    "CHUNK_OVERLAP = 100\n",
    "EMBEDDING_MODEL_NAME = \"BAAI/bge-large-en-v1.5\""
   ]
  },
  {
   "cell_type": "markdown",
   "metadata": {},
   "source": [
    "<div>\n",
    "<img src=\"chunk_overlap_size_scheme.png\" width=\"800\"/>\n",
    "</div>"
   ]
  },
  {
   "cell_type": "code",
   "execution_count": 12,
   "metadata": {},
   "outputs": [],
   "source": [
    "text_splitter = RecursiveCharacterTextSplitter(\n",
    "    chunk_size=CHUNK_SIZE, chunk_overlap=CHUNK_OVERLAP\n",
    ")\n",
    "\n",
    "model_kwargs = {\"device\": \"cpu\"}\n",
    "encode_kwargs = {\"normalize_embeddings\": True}\n",
    "embedding_model = HuggingFaceBgeEmbeddings(\n",
    "    model_name=EMBEDDING_MODEL_NAME, model_kwargs=model_kwargs, encode_kwargs=encode_kwargs\n",
    ")"
   ]
  },
  {
   "cell_type": "code",
   "execution_count": 13,
   "metadata": {},
   "outputs": [],
   "source": [
    "all_splits = text_splitter.split_documents(doc)\n",
    "vectorstore = FAISS.from_documents(documents=all_splits,embedding=embedding_model)\n"
   ]
  },
  {
   "cell_type": "code",
   "execution_count": 14,
   "metadata": {},
   "outputs": [],
   "source": [
    "vectorstore.save_local(VECTORSTORES_DIR)"
   ]
  },
  {
   "cell_type": "markdown",
   "metadata": {},
   "source": [
    "# end step 2"
   ]
  },
  {
   "cell_type": "markdown",
   "metadata": {},
   "source": [
    "# start step 3"
   ]
  },
  {
   "cell_type": "markdown",
   "metadata": {},
   "source": [
    "## Loading a vectorstore"
   ]
  },
  {
   "cell_type": "code",
   "execution_count": 15,
   "metadata": {},
   "outputs": [],
   "source": [
    "vectorstore = FAISS.load_local(VECTORSTORES_DIR,embedding_model,allow_dangerous_deserialization=True)"
   ]
  },
  {
   "cell_type": "markdown",
   "metadata": {},
   "source": [
    "## What is temperature?\n",
    "\n",
    "The temperature parameter in a language model (LLM) controls the randomness of the model's output.\n",
    "\n",
    "A lower temperature value (closer to 0) makes the model more deterministic, favoring higher probability words and resulting in more predictable and repetitive text.\n",
    "\n",
    "A higher temperature value (closer to 1) increases randomness, allowing for more creative and diverse responses by giving less probable words a better chance of being chosen.\n",
    "\n",
    "Adjusting the temperature helps balance between coherence and creativity in the generated text."
   ]
  },
  {
   "cell_type": "markdown",
   "metadata": {},
   "source": [
    "## New prompt\n",
    "\n",
    "In RAG we need to add another marker to indicate where the new information (or context) should be inserted for this we use the variable named `{context}`."
   ]
  },
  {
   "cell_type": "code",
   "execution_count": 16,
   "metadata": {},
   "outputs": [],
   "source": [
    "prompt= \"\"\"<start_of_turn>\n",
    "Use the following pieces of context to answer the question at the end.\n",
    "Don't try to make up an answer and only use the information you know.\n",
    "Use three sentences maximum and keep the answer as concise as possible.\n",
    "You must answer in english.\n",
    "{context}<end_of_turn>\n",
    "<start_of_turn>{question}<end_of_turn>\"\"\"\n",
    "\n",
    "\n",
    "prompt_template = PromptTemplate(input_variables=[\"context\", \"question\"],template=prompt)"
   ]
  },
  {
   "cell_type": "markdown",
   "metadata": {},
   "source": [
    "## Creating the chain"
   ]
  },
  {
   "cell_type": "code",
   "execution_count": 17,
   "metadata": {},
   "outputs": [],
   "source": [
    "# Top k of chunks to retrieve from the vectorstore\n",
    "NB_RETRIVED_CHUNKS = 8"
   ]
  },
  {
   "cell_type": "code",
   "execution_count": 18,
   "metadata": {},
   "outputs": [],
   "source": [
    "rqa_chain = RetrievalQA.from_chain_type(\n",
    "        llm,\n",
    "        retriever=vectorstore.as_retriever(search_kwargs={\"k\": NB_RETRIVED_CHUNKS}),\n",
    "        chain_type_kwargs={\"prompt\": prompt_template},\n",
    "        input_key=\"question\", # same as the variable in the prompt\n",
    "        output_key=\"answer\",\n",
    "        return_source_documents=True,\n",
    "    )"
   ]
  },
  {
   "cell_type": "markdown",
   "metadata": {},
   "source": [
    "## Chatting with a pdf"
   ]
  },
  {
   "cell_type": "code",
   "execution_count": 19,
   "metadata": {},
   "outputs": [
    {
     "data": {
      "text/plain": [
       "{'question': 'Can I fly to Graubunden and is it there a lot of sunshine ?',\n",
       " 'answer': 'Yes, you can fly to Graubunden. Zurich Airport is conveniently connected to the public transport network. The region enjoys plenty of sunshine, with Graubunden being one of the sunniest areas in Switzerland.',\n",
       " 'source_documents': [Document(metadata={'source': 'data/PDFs/Quality_of_life_in_the_Grisons.pdf', 'page': 4}, page_content='24\\nTips and Information \\nCulture and leisure-time activities\\nwww.graubuenden.ch\\nWeather forecasts\\nwww.wetter-graubuenden.ch \\nPublic transport\\nwww.rhb.ch | www.sbb.ch\\n4. QUALITY OF LIFE AND LIFESTYLE\\nHealth and Safety\\nQuality of life: plenty of sunshine, no fog\\nGood weather and a favourable climate improve wellbeing. \\nThe Grisons is one of the areas with the most sunshine in \\nSwitzerland and thanks to the long hours of sun and the \\nmild climate, it is also the warmest vine growing area in the'),\n",
       "  Document(metadata={'source': 'data/PDFs/2023-travel-brochure-visit-graubunden-gcc.pdf', 'page': 4}, page_content='How to get there\\nFlying to Graubunden\\nZurich Airport is one of Europe’s air traffic  hubs and is served by numerous \\nairlines. Additionally, it is ideally connected to the  public transport network, \\nguaranteeing a  seamless post-flight journey to  Graubunden.\\nNumerous airports in and around  Graubunden include Friedrichshafen (DE),  \\nInnsbruck (AUT), St. Gallen-Altenrhein,  Basel, and Samedan near St. Moritz.\\n \\nDriving to Graubunden'),\n",
       "  Document(metadata={'source': 'data/PDFs/2023-travel-brochure-visit-graubunden-gcc.pdf', 'page': 0}, page_content='THE NO.1 HOLIDAY DESTINATION  \\nIN SWITZERLAND\\nVisit \\nGraubunden\\nTravel Brochure\\nPhoto by\\n© Flims Laax Falera / Gaudenz Danuser'),\n",
       "  Document(metadata={'source': 'data/PDFs/2023-travel-brochure-visit-graubunden-gcc.pdf', 'page': 1}, page_content='Welcome to Graubunden\\nPerfect for families seeking spectacular outdoor\\nadventure, each region of the canton is only a\\nhop, skip, and a jump away. \\nTaking the title for the easternmost and largest\\ncanton of Switzerland - bordering Austria, Italy,\\nand Liechtenstein - when asked what makes this\\nplace so special, locals wax lyrical about its wild,\\nnatural beauty coupled with the finer things in life.\\nA place of bright green valleys, snow-capped\\npeaks and shimmering Alpine lakes, days are'),\n",
       "  Document(metadata={'source': 'data/PDFs/2023-travel-brochure-visit-graubunden-gcc.pdf', 'page': 1}, page_content='been titled among the most spectacular train\\njourneys in the world.\\nPhoto by\\n© © Daniel Geiger\\nEven with Switzerland’s competitive repertoire\\nof awe-inspiring scenery, delicious cheese and\\nchocolate, world-class medical spas, and leading\\nboarding schools, the canton (state) of Graubunden \\nstands out. Renowned as one of the grandest of the \\nSwiss Alpine Valleys, its supermodel looks are home \\nto the classic children’s novel, Heidi, the sparkly ski'),\n",
       "  Document(metadata={'source': 'data/PDFs/2023-travel-brochure-visit-graubunden-gcc.pdf', 'page': 1}, page_content=\"to the classic children’s novel, Heidi, the sparkly ski \\nresorts of St. Moritz, and the shimmering Lake  \\nCaumasee - one of Switzerland’s most beautiful lakes. \\nHighest mountain \\nPiz Bernina \\nat 13,284 ft\\nWelcome to Graubunden  3\\nMap of Graubunden  6\\nHow to get there  9\\nActivities & experiences  10\\nDestinations and hotels  28\\nImpressum/Contact  72\\nWhat's  \\ninside?\\n3\\n 3\\n 6\\n 9\\n 10\\n 28\\n \\n 72\"),\n",
       "  Document(metadata={'source': 'data/PDFs/2023-travel-brochure-visit-graubunden-gcc.pdf', 'page': 4}, page_content='Driving to Graubunden\\nIf you are coming from another European  destination, reaching Graubunden \\nby road  is an excellent way to get into vacation  mode. Graubunden’s vast \\nnetwork of well-maintained roads and highways make  traveling around easy.\\nOur route planner shows you the fastest  way to reach your vacation  \\ndestination. Graubunden has reliable roadside  assistance with major brands \\nplus  reliable cell phone coverage.\\nTraveling by train'),\n",
       "  Document(metadata={'source': 'data/PDFs/2023-travel-brochure-visit-graubunden-gcc.pdf', 'page': 5}, page_content='Photo by\\n© Graubunden Tourism\\nArosa Barenland T oboggan Run Globi Hiking Trail\\nFamily\\nSafe, beautiful and easy to  \\ntraverse, Graubunden is a dream \\nfor family travel. Kids will revel in \\nrushing down Switzerland’s  \\nlongest toboggan run, reliving \\nchildhood memories in Heidiland, \\nor making friends with Globi,  \\nSwitzerland’s Mickey Mouse. \\nHighlights include:\\n• Heidi Village\\n• Toboggan run\\n• Madrisa Land\\n• Arosa Barenland\\n• Globi Hiking Trail\\n1110\\nPhoto by\\n© Graubunden Tourism')]}"
      ]
     },
     "execution_count": 19,
     "metadata": {},
     "output_type": "execute_result"
    }
   ],
   "source": [
    "result = rqa_chain.invoke(\"Can I fly to Graubunden and is it there a lot of sunshine ?\")\n",
    "result"
   ]
  },
  {
   "cell_type": "markdown",
   "metadata": {},
   "source": [
    "## Embellishing the output"
   ]
  },
  {
   "cell_type": "code",
   "execution_count": 20,
   "metadata": {},
   "outputs": [],
   "source": [
    "def prepare_document(x):\n",
    "        return x if x is None else os.path.basename(x)\n",
    "\n",
    "def prepare_page(x):\n",
    "        return x if x is None else int(x) + 1\n",
    "\n",
    "def prepare_source(x):\n",
    "        return {\n",
    "            \"document\": prepare_document(x.metadata.get(\"source\", None)),\n",
    "            \"page\": prepare_page(x.metadata.get(\"page\", None)),\n",
    "            \"chunk\": x.page_content,\n",
    "        }"
   ]
  },
  {
   "cell_type": "code",
   "execution_count": 21,
   "metadata": {},
   "outputs": [
    {
     "data": {
      "text/html": [
       "<pre style=\"white-space:pre;overflow-x:auto;line-height:normal;font-family:Menlo,'DejaVu Sans Mono',consolas,'Courier New',monospace\">Yes, you can fly to Graubunden. Zurich Airport is conveniently connected to the public transport network. The \n",
       "region enjoys plenty of sunshine, with Graubunden being one of the sunniest areas in Switzerland.\n",
       "</pre>\n"
      ],
      "text/plain": [
       "Yes, you can fly to Graubunden. Zurich Airport is conveniently connected to the public transport network. The \n",
       "region enjoys plenty of sunshine, with Graubunden being one of the sunniest areas in Switzerland.\n"
      ]
     },
     "metadata": {},
     "output_type": "display_data"
    }
   ],
   "source": [
    "console.print(result.get(\"answer\"))"
   ]
  },
  {
   "cell_type": "code",
   "execution_count": 22,
   "metadata": {},
   "outputs": [
    {
     "data": {
      "text/html": [
       "<pre style=\"white-space:pre;overflow-x:auto;line-height:normal;font-family:Menlo,'DejaVu Sans Mono',consolas,'Courier New',monospace\">[\n",
       " {\n",
       "  \"document\": \"Quality_of_life_in_the_Grisons.pdf\",\n",
       "  \"page\": 5,\n",
       "  \"chunk\": \"24\\nTips and Information \\nCulture and leisure-time activities\\nwww.graubuenden.ch\\nWeather \n",
       "forecasts\\nwww.wetter-graubuenden.ch \\nPublic transport\\nwww.rhb.ch | www.sbb.ch\\n4. QUALITY OF LIFE AND \n",
       "LIFESTYLE\\nHealth and Safety\\nQuality of life: plenty of sunshine, no fog\\nGood weather and a favourable climate \n",
       "improve wellbeing. \\nThe Grisons is one of the areas with the most sunshine in \\nSwitzerland and thanks to the long\n",
       "hours of sun and the \\nmild climate, it is also the warmest vine growing area in the\"\n",
       " },\n",
       " {\n",
       "  \"document\": \"2023-travel-brochure-visit-graubunden-gcc.pdf\",\n",
       "  \"page\": 5,\n",
       "  \"chunk\": \"How to get there\\nFlying to Graubunden\\nZurich Airport is one of Europe\\u2019s air traffic  hubs and is\n",
       "served by numerous \\nairlines. Additionally, it is ideally connected to the  public transport network, \n",
       "\\nguaranteeing a  seamless post-flight journey to  Graubunden.\\nNumerous airports in and around  Graubunden include\n",
       "Friedrichshafen (DE),  \\nInnsbruck (AUT), St. Gallen-Altenrhein,  Basel, and Samedan near St. Moritz.\\n \\nDriving \n",
       "to Graubunden\"\n",
       " },\n",
       " {\n",
       "  \"document\": \"2023-travel-brochure-visit-graubunden-gcc.pdf\",\n",
       "  \"page\": 1,\n",
       "  \"chunk\": \"THE NO.1 HOLIDAY DESTINATION  \\nIN SWITZERLAND\\nVisit \\nGraubunden\\nTravel Brochure\\nPhoto by\\n\\u00a9 \n",
       "Flims Laax Falera / Gaudenz Danuser\"\n",
       " },\n",
       " {\n",
       "  \"document\": \"2023-travel-brochure-visit-graubunden-gcc.pdf\",\n",
       "  \"page\": 2,\n",
       "  \"chunk\": \"Welcome to Graubunden\\nPerfect for families seeking spectacular outdoor\\nadventure, each region of the \n",
       "canton is only a\\nhop, skip, and a jump away. \\nTaking the title for the easternmost and largest\\ncanton of \n",
       "Switzerland - bordering Austria, Italy,\\nand Liechtenstein - when asked what makes this\\nplace so special, locals \n",
       "wax lyrical about its wild,\\nnatural beauty coupled with the finer things in life.\\nA place of bright green \n",
       "valleys, snow-capped\\npeaks and shimmering Alpine lakes, days are\"\n",
       " },\n",
       " {\n",
       "  \"document\": \"2023-travel-brochure-visit-graubunden-gcc.pdf\",\n",
       "  \"page\": 2,\n",
       "  \"chunk\": \"been titled among the most spectacular train\\njourneys in the world.\\nPhoto by\\n\\u00a9 \\u00a9 Daniel \n",
       "Geiger\\nEven with Switzerland\\u2019s competitive repertoire\\nof awe-inspiring scenery, delicious cheese \n",
       "and\\nchocolate, world-class medical spas, and leading\\nboarding schools, the canton (state) of Graubunden \\nstands \n",
       "out. Renowned as one of the grandest of the \\nSwiss Alpine Valleys, its supermodel looks are home \\nto the classic \n",
       "children\\u2019s novel, Heidi, the sparkly ski\"\n",
       " },\n",
       " {\n",
       "  \"document\": \"2023-travel-brochure-visit-graubunden-gcc.pdf\",\n",
       "  \"page\": 2,\n",
       "  \"chunk\": \"to the classic children\\u2019s novel, Heidi, the sparkly ski \\nresorts of St. Moritz, and the \n",
       "shimmering Lake  \\nCaumasee - one of Switzerland\\u2019s most beautiful lakes. \\nHighest mountain \\nPiz Bernina \\nat\n",
       "13,284 ft\\nWelcome to Graubunden  3\\nMap of Graubunden  6\\nHow to get there  9\\nActivities &amp; experiences  \n",
       "10\\nDestinations and hotels  28\\nImpressum/Contact  72\\nWhat's  \\ninside?\\n3\\n 3\\n 6\\n 9\\n 10\\n 28\\n \\n 72\"\n",
       " },\n",
       " {\n",
       "  \"document\": \"2023-travel-brochure-visit-graubunden-gcc.pdf\",\n",
       "  \"page\": 5,\n",
       "  \"chunk\": \"Driving to Graubunden\\nIf you are coming from another European  destination, reaching Graubunden \\nby \n",
       "road  is an excellent way to get into vacation  mode. Graubunden\\u2019s vast \\nnetwork of well-maintained roads and\n",
       "highways make  traveling around easy.\\nOur route planner shows you the fastest  way to reach your vacation  \n",
       "\\ndestination. Graubunden has reliable roadside  assistance with major brands \\nplus  reliable cell phone \n",
       "coverage.\\nTraveling by train\"\n",
       " },\n",
       " {\n",
       "  \"document\": \"2023-travel-brochure-visit-graubunden-gcc.pdf\",\n",
       "  \"page\": 6,\n",
       "  \"chunk\": \"Photo by\\n\\u00a9 Graubunden Tourism\\nArosa Barenland T oboggan Run Globi Hiking Trail\\nFamily\\nSafe, \n",
       "beautiful and easy to  \\ntraverse, Graubunden is a dream \\nfor family travel. Kids will revel in \\nrushing down \n",
       "Switzerland\\u2019s  \\nlongest toboggan run, reliving \\nchildhood memories in Heidiland, \\nor making friends with \n",
       "Globi,  \\nSwitzerland\\u2019s Mickey Mouse. \\nHighlights include:\\n\\u2022 Heidi Village\\n\\u2022 Toboggan run\\n\\u2022\n",
       "Madrisa Land\\n\\u2022 Arosa Barenland\\n\\u2022 Globi Hiking Trail\\n1110\\nPhoto by\\n\\u00a9 Graubunden Tourism\"\n",
       " }\n",
       "]\n",
       "</pre>\n"
      ],
      "text/plain": [
       "[\n",
       " {\n",
       "  \"document\": \"Quality_of_life_in_the_Grisons.pdf\",\n",
       "  \"page\": 5,\n",
       "  \"chunk\": \"24\\nTips and Information \\nCulture and leisure-time activities\\nwww.graubuenden.ch\\nWeather \n",
       "forecasts\\nwww.wetter-graubuenden.ch \\nPublic transport\\nwww.rhb.ch | www.sbb.ch\\n4. QUALITY OF LIFE AND \n",
       "LIFESTYLE\\nHealth and Safety\\nQuality of life: plenty of sunshine, no fog\\nGood weather and a favourable climate \n",
       "improve wellbeing. \\nThe Grisons is one of the areas with the most sunshine in \\nSwitzerland and thanks to the long\n",
       "hours of sun and the \\nmild climate, it is also the warmest vine growing area in the\"\n",
       " },\n",
       " {\n",
       "  \"document\": \"2023-travel-brochure-visit-graubunden-gcc.pdf\",\n",
       "  \"page\": 5,\n",
       "  \"chunk\": \"How to get there\\nFlying to Graubunden\\nZurich Airport is one of Europe\\u2019s air traffic  hubs and is\n",
       "served by numerous \\nairlines. Additionally, it is ideally connected to the  public transport network, \n",
       "\\nguaranteeing a  seamless post-flight journey to  Graubunden.\\nNumerous airports in and around  Graubunden include\n",
       "Friedrichshafen (DE),  \\nInnsbruck (AUT), St. Gallen-Altenrhein,  Basel, and Samedan near St. Moritz.\\n \\nDriving \n",
       "to Graubunden\"\n",
       " },\n",
       " {\n",
       "  \"document\": \"2023-travel-brochure-visit-graubunden-gcc.pdf\",\n",
       "  \"page\": 1,\n",
       "  \"chunk\": \"THE NO.1 HOLIDAY DESTINATION  \\nIN SWITZERLAND\\nVisit \\nGraubunden\\nTravel Brochure\\nPhoto by\\n\\u00a9 \n",
       "Flims Laax Falera / Gaudenz Danuser\"\n",
       " },\n",
       " {\n",
       "  \"document\": \"2023-travel-brochure-visit-graubunden-gcc.pdf\",\n",
       "  \"page\": 2,\n",
       "  \"chunk\": \"Welcome to Graubunden\\nPerfect for families seeking spectacular outdoor\\nadventure, each region of the \n",
       "canton is only a\\nhop, skip, and a jump away. \\nTaking the title for the easternmost and largest\\ncanton of \n",
       "Switzerland - bordering Austria, Italy,\\nand Liechtenstein - when asked what makes this\\nplace so special, locals \n",
       "wax lyrical about its wild,\\nnatural beauty coupled with the finer things in life.\\nA place of bright green \n",
       "valleys, snow-capped\\npeaks and shimmering Alpine lakes, days are\"\n",
       " },\n",
       " {\n",
       "  \"document\": \"2023-travel-brochure-visit-graubunden-gcc.pdf\",\n",
       "  \"page\": 2,\n",
       "  \"chunk\": \"been titled among the most spectacular train\\njourneys in the world.\\nPhoto by\\n\\u00a9 \\u00a9 Daniel \n",
       "Geiger\\nEven with Switzerland\\u2019s competitive repertoire\\nof awe-inspiring scenery, delicious cheese \n",
       "and\\nchocolate, world-class medical spas, and leading\\nboarding schools, the canton (state) of Graubunden \\nstands \n",
       "out. Renowned as one of the grandest of the \\nSwiss Alpine Valleys, its supermodel looks are home \\nto the classic \n",
       "children\\u2019s novel, Heidi, the sparkly ski\"\n",
       " },\n",
       " {\n",
       "  \"document\": \"2023-travel-brochure-visit-graubunden-gcc.pdf\",\n",
       "  \"page\": 2,\n",
       "  \"chunk\": \"to the classic children\\u2019s novel, Heidi, the sparkly ski \\nresorts of St. Moritz, and the \n",
       "shimmering Lake  \\nCaumasee - one of Switzerland\\u2019s most beautiful lakes. \\nHighest mountain \\nPiz Bernina \\nat\n",
       "13,284 ft\\nWelcome to Graubunden  3\\nMap of Graubunden  6\\nHow to get there  9\\nActivities & experiences  \n",
       "10\\nDestinations and hotels  28\\nImpressum/Contact  72\\nWhat's  \\ninside?\\n3\\n 3\\n 6\\n 9\\n 10\\n 28\\n \\n 72\"\n",
       " },\n",
       " {\n",
       "  \"document\": \"2023-travel-brochure-visit-graubunden-gcc.pdf\",\n",
       "  \"page\": 5,\n",
       "  \"chunk\": \"Driving to Graubunden\\nIf you are coming from another European  destination, reaching Graubunden \\nby \n",
       "road  is an excellent way to get into vacation  mode. Graubunden\\u2019s vast \\nnetwork of well-maintained roads and\n",
       "highways make  traveling around easy.\\nOur route planner shows you the fastest  way to reach your vacation  \n",
       "\\ndestination. Graubunden has reliable roadside  assistance with major brands \\nplus  reliable cell phone \n",
       "coverage.\\nTraveling by train\"\n",
       " },\n",
       " {\n",
       "  \"document\": \"2023-travel-brochure-visit-graubunden-gcc.pdf\",\n",
       "  \"page\": 6,\n",
       "  \"chunk\": \"Photo by\\n\\u00a9 Graubunden Tourism\\nArosa Barenland T oboggan Run Globi Hiking Trail\\nFamily\\nSafe, \n",
       "beautiful and easy to  \\ntraverse, Graubunden is a dream \\nfor family travel. Kids will revel in \\nrushing down \n",
       "Switzerland\\u2019s  \\nlongest toboggan run, reliving \\nchildhood memories in Heidiland, \\nor making friends with \n",
       "Globi,  \\nSwitzerland\\u2019s Mickey Mouse. \\nHighlights include:\\n\\u2022 Heidi Village\\n\\u2022 Toboggan run\\n\\u2022\n",
       "Madrisa Land\\n\\u2022 Arosa Barenland\\n\\u2022 Globi Hiking Trail\\n1110\\nPhoto by\\n\\u00a9 Graubunden Tourism\"\n",
       " }\n",
       "]\n"
      ]
     },
     "metadata": {},
     "output_type": "display_data"
    }
   ],
   "source": [
    "sources = [prepare_source(x) for x in result[\"source_documents\"]]\n",
    "console.print(json.dumps(sources, indent=1),highlight=False)"
   ]
  }
 ],
 "metadata": {
  "kernelspec": {
   "display_name": "Python 3",
   "language": "python",
   "name": "python3"
  },
  "language_info": {
   "codemirror_mode": {
    "name": "ipython",
    "version": 3
   },
   "file_extension": ".py",
   "mimetype": "text/x-python",
   "name": "python",
   "nbconvert_exporter": "python",
   "pygments_lexer": "ipython3",
   "version": "3.10.13"
  }
 },
 "nbformat": 4,
 "nbformat_minor": 2
}

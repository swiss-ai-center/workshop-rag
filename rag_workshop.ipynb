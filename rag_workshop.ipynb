{
 "cells": [
  {
   "cell_type": "markdown",
   "metadata": {},
   "source": [
    "# Welcome\n",
    "\n",
    "Authors:\n",
    "- Célien Donzé, research assistant at Haute Ecole Arc Ingénierie, Switzerland\n",
    "- Jonathan Guerne, research assistant at Haute Ecole Arc Ingénierie, Switzerland\n",
    "- Henrique Marques Reis, research assistant at Haute Ecole Arc Ingénierie, Switzerland\n",
    "- Pedro Costa, CO-Founder and CTO at Lumind, Switzerland"
   ]
  },
  {
   "cell_type": "markdown",
   "metadata": {},
   "source": [
    "## Package installation"
   ]
  },
  {
   "cell_type": "code",
   "execution_count": 46,
   "metadata": {
    "vscode": {
     "languageId": "shellscript"
    }
   },
   "outputs": [
    {
     "name": "stderr",
     "output_type": "stream",
     "text": [
      "huggingface/tokenizers: The current process just got forked, after parallelism has already been used. Disabling parallelism to avoid deadlocks...\n",
      "To disable this warning, you can either:\n",
      "\t- Avoid using `tokenizers` before the fork if possible\n",
      "\t- Explicitly set the environment variable TOKENIZERS_PARALLELISM=(true | false)\n"
     ]
    },
    {
     "name": "stdout",
     "output_type": "stream",
     "text": [
      "Requirement already satisfied: langchain in ./.venv/lib/python3.10/site-packages (0.2.0)\n",
      "Requirement already satisfied: langchain-community in ./.venv/lib/python3.10/site-packages (0.2.0)\n",
      "Requirement already satisfied: faiss-cpu in ./.venv/lib/python3.10/site-packages (1.8.0)\n",
      "Requirement already satisfied: pymupdf in ./.venv/lib/python3.10/site-packages (1.24.4)\n",
      "Requirement already satisfied: pypdf in ./.venv/lib/python3.10/site-packages (4.2.0)\n",
      "Requirement already satisfied: sentence_transformers in ./.venv/lib/python3.10/site-packages (2.7.0)\n",
      "Requirement already satisfied: rich in ./.venv/lib/python3.10/site-packages (13.7.1)\n",
      "Requirement already satisfied: wget in ./.venv/lib/python3.10/site-packages (3.2)\n",
      "Requirement already satisfied: SQLAlchemy<3,>=1.4 in ./.venv/lib/python3.10/site-packages (from langchain) (2.0.30)\n",
      "Requirement already satisfied: langsmith<0.2.0,>=0.1.17 in ./.venv/lib/python3.10/site-packages (from langchain) (0.1.60)\n",
      "Requirement already satisfied: numpy<2,>=1 in ./.venv/lib/python3.10/site-packages (from langchain) (1.26.4)\n",
      "Requirement already satisfied: aiohttp<4.0.0,>=3.8.3 in ./.venv/lib/python3.10/site-packages (from langchain) (3.9.5)\n",
      "Requirement already satisfied: PyYAML>=5.3 in ./.venv/lib/python3.10/site-packages (from langchain) (6.0.1)\n",
      "Requirement already satisfied: pydantic<3,>=1 in ./.venv/lib/python3.10/site-packages (from langchain) (2.7.1)\n",
      "Requirement already satisfied: requests<3,>=2 in ./.venv/lib/python3.10/site-packages (from langchain) (2.32.1)\n",
      "Requirement already satisfied: langchain-core<0.3.0,>=0.2.0 in ./.venv/lib/python3.10/site-packages (from langchain) (0.2.0)\n",
      "Requirement already satisfied: langchain-text-splitters<0.3.0,>=0.2.0 in ./.venv/lib/python3.10/site-packages (from langchain) (0.2.0)\n",
      "Requirement already satisfied: dataclasses-json<0.7,>=0.5.7 in ./.venv/lib/python3.10/site-packages (from langchain) (0.6.6)\n",
      "Requirement already satisfied: async-timeout<5.0.0,>=4.0.0 in ./.venv/lib/python3.10/site-packages (from langchain) (4.0.3)\n",
      "Requirement already satisfied: tenacity<9.0.0,>=8.1.0 in ./.venv/lib/python3.10/site-packages (from langchain) (8.3.0)\n",
      "Requirement already satisfied: PyMuPDFb==1.24.3 in ./.venv/lib/python3.10/site-packages (from pymupdf) (1.24.3)\n",
      "Requirement already satisfied: typing_extensions>=4.0 in ./.venv/lib/python3.10/site-packages (from pypdf) (4.11.0)\n",
      "Requirement already satisfied: Pillow in ./.venv/lib/python3.10/site-packages (from sentence_transformers) (10.3.0)\n",
      "Requirement already satisfied: transformers<5.0.0,>=4.34.0 in ./.venv/lib/python3.10/site-packages (from sentence_transformers) (4.41.0)\n",
      "Requirement already satisfied: scikit-learn in ./.venv/lib/python3.10/site-packages (from sentence_transformers) (1.4.2)\n",
      "Requirement already satisfied: scipy in ./.venv/lib/python3.10/site-packages (from sentence_transformers) (1.13.0)\n",
      "Requirement already satisfied: huggingface-hub>=0.15.1 in ./.venv/lib/python3.10/site-packages (from sentence_transformers) (0.23.0)\n",
      "Requirement already satisfied: tqdm in ./.venv/lib/python3.10/site-packages (from sentence_transformers) (4.66.4)\n",
      "Requirement already satisfied: torch>=1.11.0 in ./.venv/lib/python3.10/site-packages (from sentence_transformers) (2.3.0)\n",
      "Requirement already satisfied: pygments<3.0.0,>=2.13.0 in ./.venv/lib/python3.10/site-packages (from rich) (2.18.0)\n",
      "Requirement already satisfied: markdown-it-py>=2.2.0 in ./.venv/lib/python3.10/site-packages (from rich) (3.0.0)\n",
      "Requirement already satisfied: yarl<2.0,>=1.0 in ./.venv/lib/python3.10/site-packages (from aiohttp<4.0.0,>=3.8.3->langchain) (1.9.4)\n",
      "Requirement already satisfied: attrs>=17.3.0 in ./.venv/lib/python3.10/site-packages (from aiohttp<4.0.0,>=3.8.3->langchain) (23.2.0)\n",
      "Requirement already satisfied: multidict<7.0,>=4.5 in ./.venv/lib/python3.10/site-packages (from aiohttp<4.0.0,>=3.8.3->langchain) (6.0.5)\n",
      "Requirement already satisfied: aiosignal>=1.1.2 in ./.venv/lib/python3.10/site-packages (from aiohttp<4.0.0,>=3.8.3->langchain) (1.3.1)\n",
      "Requirement already satisfied: frozenlist>=1.1.1 in ./.venv/lib/python3.10/site-packages (from aiohttp<4.0.0,>=3.8.3->langchain) (1.4.1)\n",
      "Requirement already satisfied: marshmallow<4.0.0,>=3.18.0 in ./.venv/lib/python3.10/site-packages (from dataclasses-json<0.7,>=0.5.7->langchain) (3.21.2)\n",
      "Requirement already satisfied: typing-inspect<1,>=0.4.0 in ./.venv/lib/python3.10/site-packages (from dataclasses-json<0.7,>=0.5.7->langchain) (0.9.0)\n",
      "Requirement already satisfied: fsspec>=2023.5.0 in ./.venv/lib/python3.10/site-packages (from huggingface-hub>=0.15.1->sentence_transformers) (2024.5.0)\n",
      "Requirement already satisfied: packaging>=20.9 in ./.venv/lib/python3.10/site-packages (from huggingface-hub>=0.15.1->sentence_transformers) (23.2)\n",
      "Requirement already satisfied: filelock in ./.venv/lib/python3.10/site-packages (from huggingface-hub>=0.15.1->sentence_transformers) (3.14.0)\n",
      "Requirement already satisfied: jsonpatch<2.0,>=1.33 in ./.venv/lib/python3.10/site-packages (from langchain-core<0.3.0,>=0.2.0->langchain) (1.33)\n",
      "Requirement already satisfied: orjson<4.0.0,>=3.9.14 in ./.venv/lib/python3.10/site-packages (from langsmith<0.2.0,>=0.1.17->langchain) (3.10.3)\n",
      "Requirement already satisfied: mdurl~=0.1 in ./.venv/lib/python3.10/site-packages (from markdown-it-py>=2.2.0->rich) (0.1.2)\n",
      "Requirement already satisfied: pydantic-core==2.18.2 in ./.venv/lib/python3.10/site-packages (from pydantic<3,>=1->langchain) (2.18.2)\n",
      "Requirement already satisfied: annotated-types>=0.4.0 in ./.venv/lib/python3.10/site-packages (from pydantic<3,>=1->langchain) (0.7.0)\n",
      "Requirement already satisfied: urllib3<3,>=1.21.1 in ./.venv/lib/python3.10/site-packages (from requests<3,>=2->langchain) (2.2.1)\n",
      "Requirement already satisfied: certifi>=2017.4.17 in ./.venv/lib/python3.10/site-packages (from requests<3,>=2->langchain) (2024.2.2)\n",
      "Requirement already satisfied: idna<4,>=2.5 in ./.venv/lib/python3.10/site-packages (from requests<3,>=2->langchain) (3.7)\n",
      "Requirement already satisfied: charset-normalizer<4,>=2 in ./.venv/lib/python3.10/site-packages (from requests<3,>=2->langchain) (3.3.2)\n",
      "Requirement already satisfied: greenlet!=0.4.17 in ./.venv/lib/python3.10/site-packages (from SQLAlchemy<3,>=1.4->langchain) (3.0.3)\n",
      "Requirement already satisfied: jinja2 in ./.venv/lib/python3.10/site-packages (from torch>=1.11.0->sentence_transformers) (3.1.4)\n",
      "Requirement already satisfied: nvidia-cuda-cupti-cu12==12.1.105 in ./.venv/lib/python3.10/site-packages (from torch>=1.11.0->sentence_transformers) (12.1.105)\n",
      "Requirement already satisfied: nvidia-nccl-cu12==2.20.5 in ./.venv/lib/python3.10/site-packages (from torch>=1.11.0->sentence_transformers) (2.20.5)\n",
      "Requirement already satisfied: triton==2.3.0 in ./.venv/lib/python3.10/site-packages (from torch>=1.11.0->sentence_transformers) (2.3.0)\n",
      "Requirement already satisfied: nvidia-cuda-nvrtc-cu12==12.1.105 in ./.venv/lib/python3.10/site-packages (from torch>=1.11.0->sentence_transformers) (12.1.105)\n",
      "Requirement already satisfied: nvidia-cuda-runtime-cu12==12.1.105 in ./.venv/lib/python3.10/site-packages (from torch>=1.11.0->sentence_transformers) (12.1.105)\n",
      "Requirement already satisfied: nvidia-cudnn-cu12==8.9.2.26 in ./.venv/lib/python3.10/site-packages (from torch>=1.11.0->sentence_transformers) (8.9.2.26)\n",
      "Requirement already satisfied: nvidia-cusparse-cu12==12.1.0.106 in ./.venv/lib/python3.10/site-packages (from torch>=1.11.0->sentence_transformers) (12.1.0.106)\n",
      "Requirement already satisfied: nvidia-cusolver-cu12==11.4.5.107 in ./.venv/lib/python3.10/site-packages (from torch>=1.11.0->sentence_transformers) (11.4.5.107)\n",
      "Requirement already satisfied: nvidia-cublas-cu12==12.1.3.1 in ./.venv/lib/python3.10/site-packages (from torch>=1.11.0->sentence_transformers) (12.1.3.1)\n",
      "Requirement already satisfied: nvidia-curand-cu12==10.3.2.106 in ./.venv/lib/python3.10/site-packages (from torch>=1.11.0->sentence_transformers) (10.3.2.106)\n",
      "Requirement already satisfied: nvidia-nvtx-cu12==12.1.105 in ./.venv/lib/python3.10/site-packages (from torch>=1.11.0->sentence_transformers) (12.1.105)\n",
      "Requirement already satisfied: nvidia-cufft-cu12==11.0.2.54 in ./.venv/lib/python3.10/site-packages (from torch>=1.11.0->sentence_transformers) (11.0.2.54)\n",
      "Requirement already satisfied: sympy in ./.venv/lib/python3.10/site-packages (from torch>=1.11.0->sentence_transformers) (1.12)\n",
      "Requirement already satisfied: networkx in ./.venv/lib/python3.10/site-packages (from torch>=1.11.0->sentence_transformers) (3.3)\n",
      "Requirement already satisfied: nvidia-nvjitlink-cu12 in ./.venv/lib/python3.10/site-packages (from nvidia-cusolver-cu12==11.4.5.107->torch>=1.11.0->sentence_transformers) (12.4.127)\n",
      "Requirement already satisfied: regex!=2019.12.17 in ./.venv/lib/python3.10/site-packages (from transformers<5.0.0,>=4.34.0->sentence_transformers) (2024.5.15)\n",
      "Requirement already satisfied: safetensors>=0.4.1 in ./.venv/lib/python3.10/site-packages (from transformers<5.0.0,>=4.34.0->sentence_transformers) (0.4.3)\n",
      "Requirement already satisfied: tokenizers<0.20,>=0.19 in ./.venv/lib/python3.10/site-packages (from transformers<5.0.0,>=4.34.0->sentence_transformers) (0.19.1)\n",
      "Requirement already satisfied: joblib>=1.2.0 in ./.venv/lib/python3.10/site-packages (from scikit-learn->sentence_transformers) (1.4.2)\n",
      "Requirement already satisfied: threadpoolctl>=2.0.0 in ./.venv/lib/python3.10/site-packages (from scikit-learn->sentence_transformers) (3.5.0)\n",
      "Requirement already satisfied: jsonpointer>=1.9 in ./.venv/lib/python3.10/site-packages (from jsonpatch<2.0,>=1.33->langchain-core<0.3.0,>=0.2.0->langchain) (2.4)\n",
      "Requirement already satisfied: mypy-extensions>=0.3.0 in ./.venv/lib/python3.10/site-packages (from typing-inspect<1,>=0.4.0->dataclasses-json<0.7,>=0.5.7->langchain) (1.0.0)\n",
      "Requirement already satisfied: MarkupSafe>=2.0 in ./.venv/lib/python3.10/site-packages (from jinja2->torch>=1.11.0->sentence_transformers) (2.1.5)\n",
      "Requirement already satisfied: mpmath>=0.19 in ./.venv/lib/python3.10/site-packages (from sympy->torch>=1.11.0->sentence_transformers) (1.3.0)\n",
      "\n",
      "\u001b[1m[\u001b[0m\u001b[34;49mnotice\u001b[0m\u001b[1;39;49m]\u001b[0m\u001b[39;49m A new release of pip is available: \u001b[0m\u001b[31;49m23.0.1\u001b[0m\u001b[39;49m -> \u001b[0m\u001b[32;49m24.0\u001b[0m\n",
      "\u001b[1m[\u001b[0m\u001b[34;49mnotice\u001b[0m\u001b[1;39;49m]\u001b[0m\u001b[39;49m To update, run: \u001b[0m\u001b[32;49mpip install --upgrade pip\u001b[0m\n"
     ]
    }
   ],
   "source": [
    "!pip install langchain langchain-community faiss-cpu pymupdf pypdf sentence_transformers rich wget"
   ]
  },
  {
   "cell_type": "markdown",
   "metadata": {},
   "source": [
    "## Imports"
   ]
  },
  {
   "cell_type": "code",
   "execution_count": 47,
   "metadata": {},
   "outputs": [],
   "source": [
    "from langchain.document_loaders import PyPDFDirectoryLoader\n",
    "from langchain.vectorstores import FAISS\n",
    "from langchain.embeddings import HuggingFaceBgeEmbeddings\n",
    "from langchain.chains import RetrievalQA, LLMChain\n",
    "from langchain.text_splitter import RecursiveCharacterTextSplitter\n",
    "from langchain.prompts import PromptTemplate\n",
    "from langchain.llms.ollama import Ollama\n",
    "import os\n",
    "import json\n",
    "from rich.console import Console\n",
    "import zipfile\n",
    "import os\n",
    "import wget\n",
    "\n",
    "\n",
    "console=Console()"
   ]
  },
  {
   "cell_type": "markdown",
   "metadata": {},
   "source": [
    "# Downloading the pdfs"
   ]
  },
  {
   "cell_type": "code",
   "execution_count": 48,
   "metadata": {},
   "outputs": [
    {
     "name": "stdout",
     "output_type": "stream",
     "text": [
      "Pdf file downloaded successfully.\n"
     ]
    }
   ],
   "source": [
    "# Create the \"data/PDFs\" folder if it doesn't exist\n",
    "os.makedirs(\"data/PDFs\", exist_ok=True)\n",
    "\n",
    "# Download the PDFs\n",
    "url = \"https://www.dropbox.com/scl/fo/xhqjzofiqnbmraxksgvlh/AAoL_WMBFOYDuipk5T_tTus?rlkey=qbbcvw4gbw6bpxkeijt6m94kt&st=yhap82wh&dl=1\"\n",
    "filename=wget.download(url, \".\")\n",
    "\n",
    "zip_file_path = f\"./{filename}\"\n",
    "extract_folder = \"data/PDFs\"\n",
    "\n",
    "# Create the extract folder if it doesn't exist\n",
    "os.makedirs(extract_folder, exist_ok=True)\n",
    "\n",
    "# Extract the zip file\n",
    "with zipfile.ZipFile(zip_file_path, 'r') as zip_ref:\n",
    "    zip_ref.extractall(extract_folder)\n",
    "\n",
    "print(\"Pdf file downloaded successfully.\")"
   ]
  },
  {
   "cell_type": "markdown",
   "metadata": {},
   "source": [
    "## Documentation\n",
    "\n",
    "- [langchain](https://python.langchain.com/v0.1/docs/get_started/introduction/)\n",
    "- [Ollama website](https://ollama.com/)"
   ]
  },
  {
   "cell_type": "markdown",
   "metadata": {},
   "source": [
    "## Constants"
   ]
  },
  {
   "cell_type": "code",
   "execution_count": 49,
   "metadata": {},
   "outputs": [],
   "source": [
    "OLLAMA_ADDRESS = \"http://157.26.83.14:11434\"\n",
    "# OLLAMA_ADDRESS = \"http://165.1.69.123:11434\"\n",
    "LLM_NAME=\"gemma\""
   ]
  },
  {
   "cell_type": "markdown",
   "metadata": {},
   "source": [
    "# start step 1"
   ]
  },
  {
   "cell_type": "markdown",
   "metadata": {},
   "source": [
    "## Connecting to LLM"
   ]
  },
  {
   "cell_type": "code",
   "execution_count": 50,
   "metadata": {},
   "outputs": [],
   "source": [
    "llm= Ollama(\n",
    "        model=LLM_NAME,\n",
    "        base_url=OLLAMA_ADDRESS,\n",
    "        temperature=0.1, # Will be explained later\n",
    "        stop=[\"<end_of_turn>\"],\n",
    "    )"
   ]
  },
  {
   "cell_type": "markdown",
   "metadata": {},
   "source": [
    "## Creating a prompt\n",
    "\n",
    "A prompt is generally divided into two parts: the context and the question.\n",
    "\n",
    "The context provides the information that the model will use to generate its answer, while the question specifies what the model is expected to respond to.\n",
    "\n",
    "In a prompt, special characters are used to delineate different sections. For instance, in Gemma, these are `<start_of_turn>` and `<end_of_turn>`.\n",
    "\n",
    "Additionally, LangChain requires markers indicating where to insert the user's question and the context retrieved from documents. For the question.\n",
    "\n",
    "Gemma prompt template :\n",
    "\n",
    "```html\n",
    "<start_of_turn>user\n",
    "{{ if .System }}{{ .System }} {{ end }}{{ .Prompt }}<end_of_turn>\n",
    "<start_of_turn>model\n",
    "{{ .Response }}<end_of_turn>\n",
    "```"
   ]
  },
  {
   "cell_type": "code",
   "execution_count": 51,
   "metadata": {},
   "outputs": [],
   "source": [
    "template = \"\"\"<start_of_turn>\n",
    "You are an helpful assistant that answer the question in detail.\n",
    "\n",
    "Human input: {question}<end_of_turn>\n",
    "<start_of_turn>Assistant:<end_of_turn>\"\"\"\n",
    "\n",
    "prompt = PromptTemplate(input_variables=[\"question\"], template=template)"
   ]
  },
  {
   "cell_type": "markdown",
   "metadata": {},
   "source": [
    "## Creating the chain and start a conversation"
   ]
  },
  {
   "cell_type": "code",
   "execution_count": 52,
   "metadata": {},
   "outputs": [],
   "source": [
    "conversation = LLMChain(\n",
    "    llm=llm,\n",
    "    # verbose=True, # uncomment if you want to see more information about the chain\n",
    "    prompt=prompt\n",
    ")"
   ]
  },
  {
   "cell_type": "code",
   "execution_count": 53,
   "metadata": {},
   "outputs": [
    {
     "data": {
      "text/html": [
       "<pre style=\"white-space:pre;overflow-x:auto;line-height:normal;font-family:Menlo,'DejaVu Sans Mono',consolas,'Courier New',monospace\">**The capital of Switzerland is Bern.**\n",
       "\n",
       "**Background:**\n",
       "\n",
       "* Bern is a city in western Switzerland and has been the federal capital of Switzerland since <span style=\"color: #008080; text-decoration-color: #008080; font-weight: bold\">1848</span>.\n",
       "* It is located on the Aare River in the German-speaking region of the country.\n",
       "* Bern is known for its charming Old Town, medieval architecture, and picturesque riverfront promenades.\n",
       "\n",
       "**Key Features:**\n",
       "\n",
       "* **Parliamentary Building:** The seat of the Swiss Federal Assembly, the highest legislative body in Switzerland.\n",
       "* **Federal Palace:** The executive branch of the Swiss government.\n",
       "* **Zytglogge:** A historic clock tower and symbol of the city.\n",
       "* **Einstein Museum:** Dedicated to the life and work of Albert Einstein, who lived in Bern for many years.\n",
       "* **Rosengartens:** A beautiful rose garden with over <span style=\"color: #008080; text-decoration-color: #008080; font-weight: bold\">10</span>,<span style=\"color: #008080; text-decoration-color: #008080; font-weight: bold\">000</span> roses.\n",
       "\n",
       "**Transportation:**\n",
       "\n",
       "* Bern is well-connected by public transport, including buses, trams, and trains.\n",
       "* The city has a central train station with connections to other major cities in Switzerland.\n",
       "\n",
       "**Accommodation:**\n",
       "\n",
       "* Bern offers a wide range of accommodation options, from budget-friendly hotels to luxury apartments.\n",
       "* Popular hotels include the Hotel Schweizerhof Bern and the Hotel Rössli.\n",
       "\n",
       "**Attractions:**\n",
       "\n",
       "* Explore the Old Town with its narrow streets and medieval buildings.\n",
       "* Visit the Bundeshaus, the Swiss Parliament building.\n",
       "* Take a stroll along the Aare River.\n",
       "* Enjoy panoramic views from the Harder Kulm mountain.\n",
       "\n",
       "**Accessibility:**\n",
       "\n",
       "* Bern is easily accessible by train, bus, or plane.\n",
       "* The city is flat and easy to navigate on foot or by public transport.\n",
       "</pre>\n"
      ],
      "text/plain": [
       "**The capital of Switzerland is Bern.**\n",
       "\n",
       "**Background:**\n",
       "\n",
       "* Bern is a city in western Switzerland and has been the federal capital of Switzerland since \u001b[1;36m1848\u001b[0m.\n",
       "* It is located on the Aare River in the German-speaking region of the country.\n",
       "* Bern is known for its charming Old Town, medieval architecture, and picturesque riverfront promenades.\n",
       "\n",
       "**Key Features:**\n",
       "\n",
       "* **Parliamentary Building:** The seat of the Swiss Federal Assembly, the highest legislative body in Switzerland.\n",
       "* **Federal Palace:** The executive branch of the Swiss government.\n",
       "* **Zytglogge:** A historic clock tower and symbol of the city.\n",
       "* **Einstein Museum:** Dedicated to the life and work of Albert Einstein, who lived in Bern for many years.\n",
       "* **Rosengartens:** A beautiful rose garden with over \u001b[1;36m10\u001b[0m,\u001b[1;36m000\u001b[0m roses.\n",
       "\n",
       "**Transportation:**\n",
       "\n",
       "* Bern is well-connected by public transport, including buses, trams, and trains.\n",
       "* The city has a central train station with connections to other major cities in Switzerland.\n",
       "\n",
       "**Accommodation:**\n",
       "\n",
       "* Bern offers a wide range of accommodation options, from budget-friendly hotels to luxury apartments.\n",
       "* Popular hotels include the Hotel Schweizerhof Bern and the Hotel Rössli.\n",
       "\n",
       "**Attractions:**\n",
       "\n",
       "* Explore the Old Town with its narrow streets and medieval buildings.\n",
       "* Visit the Bundeshaus, the Swiss Parliament building.\n",
       "* Take a stroll along the Aare River.\n",
       "* Enjoy panoramic views from the Harder Kulm mountain.\n",
       "\n",
       "**Accessibility:**\n",
       "\n",
       "* Bern is easily accessible by train, bus, or plane.\n",
       "* The city is flat and easy to navigate on foot or by public transport.\n"
      ]
     },
     "metadata": {},
     "output_type": "display_data"
    }
   ],
   "source": [
    "result = conversation.invoke(input=\"What is the capital of Switzerland?\")\n",
    "console.print(result.get(\"text\"))"
   ]
  },
  {
   "cell_type": "markdown",
   "metadata": {},
   "source": [
    "# end step 1"
   ]
  },
  {
   "cell_type": "markdown",
   "metadata": {},
   "source": [
    "# start step 2"
   ]
  },
  {
   "cell_type": "markdown",
   "metadata": {},
   "source": [
    "## Loading a PDF"
   ]
  },
  {
   "cell_type": "code",
   "execution_count": 54,
   "metadata": {},
   "outputs": [],
   "source": [
    "DATA_DIR = os.path.join(\"./\", \"data\")\n",
    "PDF_DIR = os.path.join(DATA_DIR, \"PDFs\")\n",
    "VECTORSTORES_DIR = os.path.join(DATA_DIR, \"vectorstores\")"
   ]
  },
  {
   "cell_type": "code",
   "execution_count": 55,
   "metadata": {},
   "outputs": [],
   "source": [
    "loader = PyPDFDirectoryLoader(PDF_DIR)\n",
    "doc = loader.load()"
   ]
  },
  {
   "cell_type": "markdown",
   "metadata": {},
   "source": [
    "## Embedding a PDF in a vectorstore"
   ]
  },
  {
   "cell_type": "code",
   "execution_count": 56,
   "metadata": {},
   "outputs": [],
   "source": [
    "CHUNK_SIZE = 500\n",
    "CHUNK_OVERLAP = 100\n",
    "EMBEDDING_MODEL_NAME = \"BAAI/bge-large-en-v1.5\""
   ]
  },
  {
   "cell_type": "markdown",
   "metadata": {},
   "source": [
    "<div>\n",
    "<img src=\"chunk_overlap_size_scheme.png\" width=\"800\"/>\n",
    "</div>"
   ]
  },
  {
   "cell_type": "code",
   "execution_count": 57,
   "metadata": {},
   "outputs": [
    {
     "name": "stderr",
     "output_type": "stream",
     "text": [
      "/mnt/d/dev/rag-workshop/.venv/lib/python3.10/site-packages/huggingface_hub/file_download.py:1132: FutureWarning: `resume_download` is deprecated and will be removed in version 1.0.0. Downloads always resume when possible. If you want to force a new download, use `force_download=True`.\n",
      "  warnings.warn(\n"
     ]
    }
   ],
   "source": [
    "text_splitter = RecursiveCharacterTextSplitter(\n",
    "    chunk_size=CHUNK_SIZE, chunk_overlap=CHUNK_OVERLAP\n",
    ")\n",
    "\n",
    "model_kwargs = {\"device\": \"cpu\"}\n",
    "encode_kwargs = {\"normalize_embeddings\": True}\n",
    "embedding_model = HuggingFaceBgeEmbeddings(\n",
    "    model_name=EMBEDDING_MODEL_NAME, model_kwargs=model_kwargs, encode_kwargs=encode_kwargs\n",
    ")"
   ]
  },
  {
   "cell_type": "code",
   "execution_count": 58,
   "metadata": {},
   "outputs": [],
   "source": [
    "all_splits = text_splitter.split_documents(doc)\n",
    "vectorstore = FAISS.from_documents(documents=all_splits,embedding=embedding_model)\n"
   ]
  },
  {
   "cell_type": "code",
   "execution_count": 59,
   "metadata": {},
   "outputs": [],
   "source": [
    "vectorstore.save_local(VECTORSTORES_DIR)"
   ]
  },
  {
   "cell_type": "markdown",
   "metadata": {},
   "source": [
    "# end step 2"
   ]
  },
  {
   "cell_type": "markdown",
   "metadata": {},
   "source": [
    "# start step 3"
   ]
  },
  {
   "cell_type": "markdown",
   "metadata": {},
   "source": [
    "## Loading a vectorstore"
   ]
  },
  {
   "cell_type": "code",
   "execution_count": 60,
   "metadata": {},
   "outputs": [],
   "source": [
    "vectorstore = FAISS.load_local(VECTORSTORES_DIR,embedding_model,allow_dangerous_deserialization=True)"
   ]
  },
  {
   "cell_type": "markdown",
   "metadata": {},
   "source": [
    "## What is temperature?\n",
    "\n",
    "The temperature parameter in a language model (LLM) controls the randomness of the model's output.\n",
    "\n",
    "A lower temperature value (closer to 0) makes the model more deterministic, favoring higher probability words and resulting in more predictable and repetitive text.\n",
    "\n",
    "A higher temperature value (closer to 1) increases randomness, allowing for more creative and diverse responses by giving less probable words a better chance of being chosen.\n",
    "\n",
    "Adjusting the temperature helps balance between coherence and creativity in the generated text."
   ]
  },
  {
   "cell_type": "markdown",
   "metadata": {},
   "source": [
    "## New prompt\n",
    "\n",
    "In RAG we need to add another marker to indicate where the new information (or context) should be inserted for this we use the variable named `{context}`."
   ]
  },
  {
   "cell_type": "code",
   "execution_count": 61,
   "metadata": {},
   "outputs": [],
   "source": [
    "prompt= \"\"\"<start_of_turn>\n",
    "Use the following pieces of context to answer the question at the end.\n",
    "Don't try to make up an answer and only use the information you know.\n",
    "Use three sentences maximum and keep the answer as concise as possible.\n",
    "You must answer in english.\n",
    "{context}<end_of_turn>\n",
    "<start_of_turn>{question}<end_of_turn>\"\"\"\n",
    "\n",
    "\n",
    "prompt_template = PromptTemplate(input_variables=[\"context\", \"question\"],template=prompt)"
   ]
  },
  {
   "cell_type": "markdown",
   "metadata": {},
   "source": [
    "## Creating the chain"
   ]
  },
  {
   "cell_type": "code",
   "execution_count": 78,
   "metadata": {},
   "outputs": [],
   "source": [
    "# Top k of chunks to retrieve from the vectorstore\n",
    "NB_RETRIVED_CHUNKS = 8"
   ]
  },
  {
   "cell_type": "code",
   "execution_count": 79,
   "metadata": {},
   "outputs": [],
   "source": [
    "rqa_chain = RetrievalQA.from_chain_type(\n",
    "        llm,\n",
    "        retriever=vectorstore.as_retriever(search_kwargs={\"k\": NB_RETRIVED_CHUNKS}),\n",
    "        chain_type_kwargs={\"prompt\": prompt_template},\n",
    "        input_key=\"question\", # same as the variable in the prompt\n",
    "        output_key=\"answer\",\n",
    "        return_source_documents=True,\n",
    "    )"
   ]
  },
  {
   "cell_type": "markdown",
   "metadata": {},
   "source": [
    "## Chatting with a pdf"
   ]
  },
  {
   "cell_type": "code",
   "execution_count": 86,
   "metadata": {},
   "outputs": [
    {
     "data": {
      "text/plain": [
       "{'question': 'Can I fly to Graubunden and is it there a lot of sunshine ?',\n",
       " 'answer': 'Graubunden can be reached by flight, with Zurich Airport being conveniently connected to the public transport network. The region enjoys plenty of sunshine, making it ideal for outdoor activities and a warm climate.',\n",
       " 'source_documents': [Document(page_content='24Tips and Information \\nCulture and leisure-time activities\\nwww.graubuenden.ch\\nWeather forecasts\\nwww.wetter-graubuenden.ch \\nPublic transport\\nwww.rhb.ch | www.sbb.ch4. QUALITY OF LIFE AND LIFESTYLE\\nHealth and Safety\\nQuality of life: plenty of sunshine, no fog\\nGood weather and a favourable climate improve wellbeing. \\nThe Grisons is one of the areas with the most sunshine in \\nSwitzerland and thanks to the long hours of sun and the \\nmild climate, it is also the warmest vine growing area in the', metadata={'source': 'data/PDFs/Quality_of_life_in_the_Grisons.pdf', 'page': 4}),\n",
       "  Document(page_content='How to get there\\nFlying to Graubunden\\nZurich Airport is one of Europe’s air traffic  hubs and is served by numerous \\nairlines. Additionally, it is ideally connected to the  public transport network, \\nguaranteeing a  seamless post-flight journey to  Graubunden.\\nNumerous airports in and around  Graubunden include Friedrichshafen (DE),  \\nInnsbruck (AUT), St. Gallen-Altenrhein,  Basel, and Samedan near St. Moritz.\\n \\nDriving to Graubunden', metadata={'source': 'data/PDFs/2023-travel-brochure-visit-graubunden-gcc.pdf', 'page': 4}),\n",
       "  Document(page_content='THE NO.1 HOLIDAY DESTINATION  \\nIN SWITZERLANDVisit  \\nGraubunden\\nTravel Brochure\\nPhoto by\\n© Flims Laax Falera / Gaudenz Danuser', metadata={'source': 'data/PDFs/2023-travel-brochure-visit-graubunden-gcc.pdf', 'page': 0}),\n",
       "  Document(page_content='Welcome to Graubunden\\nPerfect for families seeking spectacular outdoor\\nadventure, each region of the canton is only a\\nhop, skip, and a jump away.  \\nTaking the title for the easternmost and largest\\ncanton of Switzerland - bordering Austria, Italy,\\nand Liechtenstein - when asked what makes this\\nplace so special, locals wax lyrical about its wild,\\nnatural beauty coupled with the finer things in life.\\nA place of bright green valleys, snow-capped\\npeaks and shimmering Alpine lakes, days are', metadata={'source': 'data/PDFs/2023-travel-brochure-visit-graubunden-gcc.pdf', 'page': 1}),\n",
       "  Document(page_content='23 22Luxury\\nRenowned for its world-\\nclass health spas, elegant\\nresorts, Michelin-starred \\nrestaurants and famed shopping \\nboulevards, life is beautiful in \\nGraubunden. \\nHighlights include:\\n• Grand Resort Bad Ragaz\\n• 7132 Silver Restaurant\\n• Glacier Express  \\n  Excellence Class\\n• Via Serlas St. Moritz\\nPhoto by\\n© Grand Resort Bad Ragaz\\nGlacier Express \\nExcellence Class7132 SilverVia Serlas  \\nSt. Moritz\\nPhoto by\\n© Kulm Hotel St. Moritz', metadata={'source': 'data/PDFs/2023-travel-brochure-visit-graubunden-gcc.pdf', 'page': 11}),\n",
       "  Document(page_content='been titled among the most spectacular train\\njourneys in the world.Photo by\\n© © Daniel GeigerEven with Switzerland’s competitive repertoire\\nof awe-inspiring scenery, delicious cheese and\\nchocolate, world-class medical spas, and leading\\nboarding schools, the canton (state) of Graubunden \\nstands out. Renowned as one of the grandest of the \\nSwiss Alpine Valleys, its supermodel looks are home \\nto the classic children’s novel, Heidi, the sparkly ski \\nresorts of St. Moritz, and the shimmering Lake', metadata={'source': 'data/PDFs/2023-travel-brochure-visit-graubunden-gcc.pdf', 'page': 1}),\n",
       "  Document(page_content='Photo by\\n© Graubunden Tourism\\nArosa Barenland Toboggan Run Globi Hiking TrailFamily\\nSafe, beautiful and easy to  \\ntraverse, Graubunden is a dream \\nfor family travel. Kids will revel in \\nrushing down Switzerland’s  \\nlongest toboggan run, reliving \\nchildhood memories in Heidiland, \\nor making friends with Globi,  \\nSwitzerland’s Mickey Mouse. \\nHighlights include:\\n• Heidi Village\\n• Toboggan run\\n• Madrisa Land\\n• Arosa Barenland\\n• Globi Hiking Trail\\n11 10Photo by\\n© Graubunden Tourism', metadata={'source': 'data/PDFs/2023-travel-brochure-visit-graubunden-gcc.pdf', 'page': 5}),\n",
       "  Document(page_content='Driving to Graubunden\\nIf you are coming from another European  destination, reaching Graubunden \\nby road  is an excellent way to get into vacation  mode. Graubunden’s vast \\nnetwork of well-maintained roads and highways make  traveling around easy.\\nOur route planner shows you the fastest  way to reach your vacation  \\ndestination. Graubunden has reliable roadside  assistance with major brands \\nplus  reliable cell phone coverage.\\nTraveling by train', metadata={'source': 'data/PDFs/2023-travel-brochure-visit-graubunden-gcc.pdf', 'page': 4})]}"
      ]
     },
     "execution_count": 86,
     "metadata": {},
     "output_type": "execute_result"
    }
   ],
   "source": [
    "result = rqa_chain.invoke(\"Can I fly to Graubunden and is it there a lot of sunshine ?\")\n",
    "result"
   ]
  },
  {
   "cell_type": "markdown",
   "metadata": {},
   "source": [
    "## Embellishing the output"
   ]
  },
  {
   "cell_type": "code",
   "execution_count": 87,
   "metadata": {},
   "outputs": [],
   "source": [
    "def prepare_document(x):\n",
    "        return x if x is None else os.path.basename(x)\n",
    "\n",
    "def prepare_page(x):\n",
    "        return x if x is None else int(x) + 1\n",
    "\n",
    "def prepare_source(x):\n",
    "        return {\n",
    "            \"document\": prepare_document(x.metadata.get(\"source\", None)),\n",
    "            \"page\": prepare_page(x.metadata.get(\"page\", None)),\n",
    "            \"chunk\": x.page_content,\n",
    "        }"
   ]
  },
  {
   "cell_type": "code",
   "execution_count": 88,
   "metadata": {},
   "outputs": [
    {
     "data": {
      "text/html": [
       "<pre style=\"white-space:pre;overflow-x:auto;line-height:normal;font-family:Menlo,'DejaVu Sans Mono',consolas,'Courier New',monospace\">Graubunden can be reached by flight, with Zurich Airport being conveniently connected to the public transport \n",
       "network. The region enjoys plenty of sunshine, making it ideal for outdoor activities and a warm climate.\n",
       "</pre>\n"
      ],
      "text/plain": [
       "Graubunden can be reached by flight, with Zurich Airport being conveniently connected to the public transport \n",
       "network. The region enjoys plenty of sunshine, making it ideal for outdoor activities and a warm climate.\n"
      ]
     },
     "metadata": {},
     "output_type": "display_data"
    }
   ],
   "source": [
    "console.print(result.get(\"answer\"))"
   ]
  },
  {
   "cell_type": "code",
   "execution_count": 89,
   "metadata": {},
   "outputs": [
    {
     "data": {
      "text/html": [
       "<pre style=\"white-space:pre;overflow-x:auto;line-height:normal;font-family:Menlo,'DejaVu Sans Mono',consolas,'Courier New',monospace\">[\n",
       " {\n",
       "  \"document\": \"Quality_of_life_in_the_Grisons.pdf\",\n",
       "  \"page\": 5,\n",
       "  \"chunk\": \"24Tips and Information \\nCulture and leisure-time activities\\nwww.graubuenden.ch\\nWeather \n",
       "forecasts\\nwww.wetter-graubuenden.ch \\nPublic transport\\nwww.rhb.ch | www.sbb.ch4. QUALITY OF LIFE AND \n",
       "LIFESTYLE\\nHealth and Safety\\nQuality of life: plenty of sunshine, no fog\\nGood weather and a favourable climate \n",
       "improve wellbeing. \\nThe Grisons is one of the areas with the most sunshine in \\nSwitzerland and thanks to the long\n",
       "hours of sun and the \\nmild climate, it is also the warmest vine growing area in the\"\n",
       " },\n",
       " {\n",
       "  \"document\": \"2023-travel-brochure-visit-graubunden-gcc.pdf\",\n",
       "  \"page\": 5,\n",
       "  \"chunk\": \"How to get there\\nFlying to Graubunden\\nZurich Airport is one of Europe\\u2019s air traffic  hubs and is\n",
       "served by numerous \\nairlines. Additionally, it is ideally connected to the  public transport network, \n",
       "\\nguaranteeing a  seamless post-flight journey to  Graubunden.\\nNumerous airports in and around  Graubunden include\n",
       "Friedrichshafen (DE),  \\nInnsbruck (AUT), St. Gallen-Altenrhein,  Basel, and Samedan near St. Moritz.\\n \\nDriving \n",
       "to Graubunden\"\n",
       " },\n",
       " {\n",
       "  \"document\": \"2023-travel-brochure-visit-graubunden-gcc.pdf\",\n",
       "  \"page\": 1,\n",
       "  \"chunk\": \"THE NO.1 HOLIDAY DESTINATION  \\nIN SWITZERLANDVisit  \\nGraubunden\\nTravel Brochure\\nPhoto by\\n\\u00a9 \n",
       "Flims Laax Falera / Gaudenz Danuser\"\n",
       " },\n",
       " {\n",
       "  \"document\": \"2023-travel-brochure-visit-graubunden-gcc.pdf\",\n",
       "  \"page\": 2,\n",
       "  \"chunk\": \"Welcome to Graubunden\\nPerfect for families seeking spectacular outdoor\\nadventure, each region of the \n",
       "canton is only a\\nhop, skip, and a jump away.  \\nTaking the title for the easternmost and largest\\ncanton of \n",
       "Switzerland - bordering Austria, Italy,\\nand Liechtenstein - when asked what makes this\\nplace so special, locals \n",
       "wax lyrical about its wild,\\nnatural beauty coupled with the finer things in life.\\nA place of bright green \n",
       "valleys, snow-capped\\npeaks and shimmering Alpine lakes, days are\"\n",
       " },\n",
       " {\n",
       "  \"document\": \"2023-travel-brochure-visit-graubunden-gcc.pdf\",\n",
       "  \"page\": 12,\n",
       "  \"chunk\": \"23 22Luxury\\nRenowned for its world-\\nclass health spas, elegant\\nresorts, Michelin-starred \n",
       "\\nrestaurants and famed shopping \\nboulevards, life is beautiful in \\nGraubunden. \\nHighlights include:\\n\\u2022 \n",
       "Grand Resort Bad Ragaz\\n\\u2022 7132 Silver Restaurant\\n\\u2022 Glacier Express  \\n  Excellence Class\\n\\u2022 Via \n",
       "Serlas St. Moritz\\nPhoto by\\n\\u00a9 Grand Resort Bad Ragaz\\nGlacier Express \\nExcellence Class7132 SilverVia Serlas\n",
       "\\nSt. Moritz\\nPhoto by\\n\\u00a9 Kulm Hotel St. Moritz\"\n",
       " },\n",
       " {\n",
       "  \"document\": \"2023-travel-brochure-visit-graubunden-gcc.pdf\",\n",
       "  \"page\": 2,\n",
       "  \"chunk\": \"been titled among the most spectacular train\\njourneys in the world.Photo by\\n\\u00a9 \\u00a9 Daniel \n",
       "GeigerEven with Switzerland\\u2019s competitive repertoire\\nof awe-inspiring scenery, delicious cheese \n",
       "and\\nchocolate, world-class medical spas, and leading\\nboarding schools, the canton (state) of Graubunden \\nstands \n",
       "out. Renowned as one of the grandest of the \\nSwiss Alpine Valleys, its supermodel looks are home \\nto the classic \n",
       "children\\u2019s novel, Heidi, the sparkly ski \\nresorts of St. Moritz, and the shimmering Lake\"\n",
       " },\n",
       " {\n",
       "  \"document\": \"2023-travel-brochure-visit-graubunden-gcc.pdf\",\n",
       "  \"page\": 6,\n",
       "  \"chunk\": \"Photo by\\n\\u00a9 Graubunden Tourism\\nArosa Barenland Toboggan Run Globi Hiking TrailFamily\\nSafe, \n",
       "beautiful and easy to  \\ntraverse, Graubunden is a dream \\nfor family travel. Kids will revel in \\nrushing down \n",
       "Switzerland\\u2019s  \\nlongest toboggan run, reliving \\nchildhood memories in Heidiland, \\nor making friends with \n",
       "Globi,  \\nSwitzerland\\u2019s Mickey Mouse. \\nHighlights include:\\n\\u2022 Heidi Village\\n\\u2022 Toboggan run\\n\\u2022\n",
       "Madrisa Land\\n\\u2022 Arosa Barenland\\n\\u2022 Globi Hiking Trail\\n11 10Photo by\\n\\u00a9 Graubunden Tourism\"\n",
       " },\n",
       " {\n",
       "  \"document\": \"2023-travel-brochure-visit-graubunden-gcc.pdf\",\n",
       "  \"page\": 5,\n",
       "  \"chunk\": \"Driving to Graubunden\\nIf you are coming from another European  destination, reaching Graubunden \\nby \n",
       "road  is an excellent way to get into vacation  mode. Graubunden\\u2019s vast \\nnetwork of well-maintained roads and\n",
       "highways make  traveling around easy.\\nOur route planner shows you the fastest  way to reach your vacation  \n",
       "\\ndestination. Graubunden has reliable roadside  assistance with major brands \\nplus  reliable cell phone \n",
       "coverage.\\nTraveling by train\"\n",
       " }\n",
       "]\n",
       "</pre>\n"
      ],
      "text/plain": [
       "[\n",
       " {\n",
       "  \"document\": \"Quality_of_life_in_the_Grisons.pdf\",\n",
       "  \"page\": 5,\n",
       "  \"chunk\": \"24Tips and Information \\nCulture and leisure-time activities\\nwww.graubuenden.ch\\nWeather \n",
       "forecasts\\nwww.wetter-graubuenden.ch \\nPublic transport\\nwww.rhb.ch | www.sbb.ch4. QUALITY OF LIFE AND \n",
       "LIFESTYLE\\nHealth and Safety\\nQuality of life: plenty of sunshine, no fog\\nGood weather and a favourable climate \n",
       "improve wellbeing. \\nThe Grisons is one of the areas with the most sunshine in \\nSwitzerland and thanks to the long\n",
       "hours of sun and the \\nmild climate, it is also the warmest vine growing area in the\"\n",
       " },\n",
       " {\n",
       "  \"document\": \"2023-travel-brochure-visit-graubunden-gcc.pdf\",\n",
       "  \"page\": 5,\n",
       "  \"chunk\": \"How to get there\\nFlying to Graubunden\\nZurich Airport is one of Europe\\u2019s air traffic  hubs and is\n",
       "served by numerous \\nairlines. Additionally, it is ideally connected to the  public transport network, \n",
       "\\nguaranteeing a  seamless post-flight journey to  Graubunden.\\nNumerous airports in and around  Graubunden include\n",
       "Friedrichshafen (DE),  \\nInnsbruck (AUT), St. Gallen-Altenrhein,  Basel, and Samedan near St. Moritz.\\n \\nDriving \n",
       "to Graubunden\"\n",
       " },\n",
       " {\n",
       "  \"document\": \"2023-travel-brochure-visit-graubunden-gcc.pdf\",\n",
       "  \"page\": 1,\n",
       "  \"chunk\": \"THE NO.1 HOLIDAY DESTINATION  \\nIN SWITZERLANDVisit  \\nGraubunden\\nTravel Brochure\\nPhoto by\\n\\u00a9 \n",
       "Flims Laax Falera / Gaudenz Danuser\"\n",
       " },\n",
       " {\n",
       "  \"document\": \"2023-travel-brochure-visit-graubunden-gcc.pdf\",\n",
       "  \"page\": 2,\n",
       "  \"chunk\": \"Welcome to Graubunden\\nPerfect for families seeking spectacular outdoor\\nadventure, each region of the \n",
       "canton is only a\\nhop, skip, and a jump away.  \\nTaking the title for the easternmost and largest\\ncanton of \n",
       "Switzerland - bordering Austria, Italy,\\nand Liechtenstein - when asked what makes this\\nplace so special, locals \n",
       "wax lyrical about its wild,\\nnatural beauty coupled with the finer things in life.\\nA place of bright green \n",
       "valleys, snow-capped\\npeaks and shimmering Alpine lakes, days are\"\n",
       " },\n",
       " {\n",
       "  \"document\": \"2023-travel-brochure-visit-graubunden-gcc.pdf\",\n",
       "  \"page\": 12,\n",
       "  \"chunk\": \"23 22Luxury\\nRenowned for its world-\\nclass health spas, elegant\\nresorts, Michelin-starred \n",
       "\\nrestaurants and famed shopping \\nboulevards, life is beautiful in \\nGraubunden. \\nHighlights include:\\n\\u2022 \n",
       "Grand Resort Bad Ragaz\\n\\u2022 7132 Silver Restaurant\\n\\u2022 Glacier Express  \\n  Excellence Class\\n\\u2022 Via \n",
       "Serlas St. Moritz\\nPhoto by\\n\\u00a9 Grand Resort Bad Ragaz\\nGlacier Express \\nExcellence Class7132 SilverVia Serlas\n",
       "\\nSt. Moritz\\nPhoto by\\n\\u00a9 Kulm Hotel St. Moritz\"\n",
       " },\n",
       " {\n",
       "  \"document\": \"2023-travel-brochure-visit-graubunden-gcc.pdf\",\n",
       "  \"page\": 2,\n",
       "  \"chunk\": \"been titled among the most spectacular train\\njourneys in the world.Photo by\\n\\u00a9 \\u00a9 Daniel \n",
       "GeigerEven with Switzerland\\u2019s competitive repertoire\\nof awe-inspiring scenery, delicious cheese \n",
       "and\\nchocolate, world-class medical spas, and leading\\nboarding schools, the canton (state) of Graubunden \\nstands \n",
       "out. Renowned as one of the grandest of the \\nSwiss Alpine Valleys, its supermodel looks are home \\nto the classic \n",
       "children\\u2019s novel, Heidi, the sparkly ski \\nresorts of St. Moritz, and the shimmering Lake\"\n",
       " },\n",
       " {\n",
       "  \"document\": \"2023-travel-brochure-visit-graubunden-gcc.pdf\",\n",
       "  \"page\": 6,\n",
       "  \"chunk\": \"Photo by\\n\\u00a9 Graubunden Tourism\\nArosa Barenland Toboggan Run Globi Hiking TrailFamily\\nSafe, \n",
       "beautiful and easy to  \\ntraverse, Graubunden is a dream \\nfor family travel. Kids will revel in \\nrushing down \n",
       "Switzerland\\u2019s  \\nlongest toboggan run, reliving \\nchildhood memories in Heidiland, \\nor making friends with \n",
       "Globi,  \\nSwitzerland\\u2019s Mickey Mouse. \\nHighlights include:\\n\\u2022 Heidi Village\\n\\u2022 Toboggan run\\n\\u2022\n",
       "Madrisa Land\\n\\u2022 Arosa Barenland\\n\\u2022 Globi Hiking Trail\\n11 10Photo by\\n\\u00a9 Graubunden Tourism\"\n",
       " },\n",
       " {\n",
       "  \"document\": \"2023-travel-brochure-visit-graubunden-gcc.pdf\",\n",
       "  \"page\": 5,\n",
       "  \"chunk\": \"Driving to Graubunden\\nIf you are coming from another European  destination, reaching Graubunden \\nby \n",
       "road  is an excellent way to get into vacation  mode. Graubunden\\u2019s vast \\nnetwork of well-maintained roads and\n",
       "highways make  traveling around easy.\\nOur route planner shows you the fastest  way to reach your vacation  \n",
       "\\ndestination. Graubunden has reliable roadside  assistance with major brands \\nplus  reliable cell phone \n",
       "coverage.\\nTraveling by train\"\n",
       " }\n",
       "]\n"
      ]
     },
     "metadata": {},
     "output_type": "display_data"
    }
   ],
   "source": [
    "sources = [prepare_source(x) for x in result[\"source_documents\"]]\n",
    "console.print(json.dumps(sources, indent=1),highlight=False)"
   ]
  }
 ],
 "metadata": {
  "kernelspec": {
   "display_name": ".venv",
   "language": "python",
   "name": "python3"
  },
  "language_info": {
   "codemirror_mode": {
    "name": "ipython",
    "version": 3
   },
   "file_extension": ".py",
   "mimetype": "text/x-python",
   "name": "python",
   "nbconvert_exporter": "python",
   "pygments_lexer": "ipython3",
   "version": "3.10.13"
  }
 },
 "nbformat": 4,
 "nbformat_minor": 2
}
